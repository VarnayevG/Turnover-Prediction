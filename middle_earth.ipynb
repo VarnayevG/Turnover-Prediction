{
 "cells": [
  {
   "cell_type": "code",
   "execution_count": 11,
   "metadata": {},
   "outputs": [],
   "source": [
    "from tqdm import tqdm\n",
    "import warnings\n",
    "warnings.filterwarnings('ignore')"
   ]
  },
  {
   "cell_type": "code",
   "execution_count": 40,
   "metadata": {},
   "outputs": [],
   "source": [
    "import pandas as pd\n",
    "import numpy as np\n",
    "from sklearn.ensemble import RandomForestRegressor\n",
    "from sklearn.linear_model import Ridge, Lasso, LinearRegression\n",
    "from sklearn.model_selection import TimeSeriesSplit\n",
    "from sklearn.tree import DecisionTreeRegressor\n",
    "import matplotlib.pyplot as plt\n",
    "from tqdm import tqdm\n",
    "%matplotlib inline"
   ]
  },
  {
   "cell_type": "code",
   "execution_count": 13,
   "metadata": {},
   "outputs": [],
   "source": [
    "from sklearn.ensemble import RandomForestRegressor\n",
    "from xgboost import XGBRegressor"
   ]
  },
  {
   "cell_type": "markdown",
   "metadata": {},
   "source": [
    "### Read train and test data"
   ]
  },
  {
   "cell_type": "code",
   "execution_count": 14,
   "metadata": {},
   "outputs": [],
   "source": [
    "df = pd.read_csv('train_data.csv')\n",
    "df_test = pd.read_csv('sample_submission.csv')"
   ]
  },
  {
   "cell_type": "code",
   "execution_count": 15,
   "metadata": {},
   "outputs": [
    {
     "data": {
      "text/html": [
       "<div>\n",
       "<style scoped>\n",
       "    .dataframe tbody tr th:only-of-type {\n",
       "        vertical-align: middle;\n",
       "    }\n",
       "\n",
       "    .dataframe tbody tr th {\n",
       "        vertical-align: top;\n",
       "    }\n",
       "\n",
       "    .dataframe thead th {\n",
       "        text-align: right;\n",
       "    }\n",
       "</style>\n",
       "<table border=\"1\" class=\"dataframe\">\n",
       "  <thead>\n",
       "    <tr style=\"text-align: right;\">\n",
       "      <th></th>\n",
       "      <th>id</th>\n",
       "      <th>timestamp</th>\n",
       "      <th>rto_day</th>\n",
       "      <th>traffic</th>\n",
       "      <th>region_nm</th>\n",
       "    </tr>\n",
       "  </thead>\n",
       "  <tbody>\n",
       "    <tr>\n",
       "      <th>0</th>\n",
       "      <td>1</td>\n",
       "      <td>2020-08-13</td>\n",
       "      <td>117135.29</td>\n",
       "      <td>638.0</td>\n",
       "      <td>Аваллонэ</td>\n",
       "    </tr>\n",
       "    <tr>\n",
       "      <th>1</th>\n",
       "      <td>1</td>\n",
       "      <td>2020-11-26</td>\n",
       "      <td>116102.20</td>\n",
       "      <td>619.0</td>\n",
       "      <td>Аваллонэ</td>\n",
       "    </tr>\n",
       "  </tbody>\n",
       "</table>\n",
       "</div>"
      ],
      "text/plain": [
       "   id   timestamp    rto_day  traffic region_nm\n",
       "0   1  2020-08-13  117135.29    638.0  Аваллонэ\n",
       "1   1  2020-11-26  116102.20    619.0  Аваллонэ"
      ]
     },
     "execution_count": 15,
     "metadata": {},
     "output_type": "execute_result"
    }
   ],
   "source": [
    "df.head(2)"
   ]
  },
  {
   "cell_type": "code",
   "execution_count": 16,
   "metadata": {},
   "outputs": [
    {
     "data": {
      "text/html": [
       "<div>\n",
       "<style scoped>\n",
       "    .dataframe tbody tr th:only-of-type {\n",
       "        vertical-align: middle;\n",
       "    }\n",
       "\n",
       "    .dataframe tbody tr th {\n",
       "        vertical-align: top;\n",
       "    }\n",
       "\n",
       "    .dataframe thead th {\n",
       "        text-align: right;\n",
       "    }\n",
       "</style>\n",
       "<table border=\"1\" class=\"dataframe\">\n",
       "  <thead>\n",
       "    <tr style=\"text-align: right;\">\n",
       "      <th></th>\n",
       "      <th>id</th>\n",
       "      <th>week_1</th>\n",
       "      <th>week_2</th>\n",
       "      <th>week_3</th>\n",
       "      <th>week_4</th>\n",
       "    </tr>\n",
       "  </thead>\n",
       "  <tbody>\n",
       "    <tr>\n",
       "      <th>0</th>\n",
       "      <td>1</td>\n",
       "      <td>1111</td>\n",
       "      <td>2222</td>\n",
       "      <td>3333</td>\n",
       "      <td>4444</td>\n",
       "    </tr>\n",
       "    <tr>\n",
       "      <th>1</th>\n",
       "      <td>2</td>\n",
       "      <td>1111</td>\n",
       "      <td>2222</td>\n",
       "      <td>3333</td>\n",
       "      <td>4444</td>\n",
       "    </tr>\n",
       "  </tbody>\n",
       "</table>\n",
       "</div>"
      ],
      "text/plain": [
       "   id  week_1  week_2  week_3  week_4\n",
       "0   1    1111    2222    3333    4444\n",
       "1   2    1111    2222    3333    4444"
      ]
     },
     "execution_count": 16,
     "metadata": {},
     "output_type": "execute_result"
    }
   ],
   "source": [
    "df_test.head(2)"
   ]
  },
  {
   "cell_type": "code",
   "execution_count": 17,
   "metadata": {},
   "outputs": [],
   "source": [
    "df = df.rename(columns={'rto_day': 'rto'})\n",
    "df = df.sort_values(['timestamp', 'id']).reset_index().drop(columns=['index'])"
   ]
  },
  {
   "cell_type": "markdown",
   "metadata": {},
   "source": [
    "Всегда полезно посмотреть на данные перед работой с ними - ниже представлена функция отрисовки РТО для заданного магазина."
   ]
  },
  {
   "cell_type": "code",
   "execution_count": 18,
   "metadata": {},
   "outputs": [],
   "source": [
    "def plotPlantRto(df, plant_id):\n",
    "    with plt.style.context('seaborn-white'):    \n",
    "        plt.figure(figsize=(15, 7))\n",
    "        plt.plot(pd.to_datetime(df[df['id'] == plant_id].timestamp.values),\n",
    "                 df[df['id'] == plant_id].rto.values, \"c\", label = f\"Rto for plant_id: {plant_id}\")\n",
    "        plt.legend(loc=\"best\")\n",
    "        plt.axis('tight')\n",
    "        plt.title(\"Rto stats\")\n",
    "        plt.grid(True)"
   ]
  },
  {
   "cell_type": "code",
   "execution_count": 19,
   "metadata": {},
   "outputs": [
    {
     "data": {
      "image/png": "[encoded data removed]",
      "text/plain": [
       "<Figure size 1080x504 with 1 Axes>"
      ]
     },
     "metadata": {},
     "output_type": "display_data"
    }
   ],
   "source": [
    "plotPlantRto(df, 10)"
   ]
  },
  {
   "cell_type": "markdown",
   "metadata": {},
   "source": [
    "### Weekly granulation"
   ]
  },
  {
   "cell_type": "markdown",
   "metadata": {},
   "source": [
    "Поскольку требуется оценить показатель за неделю, то сделаем понедельную агрегацию данных."
   ]
  },
  {
   "cell_type": "code",
   "execution_count": 20,
   "metadata": {},
   "outputs": [],
   "source": [
    "def make_week_frame(df, cols_to_keep, target_metrics, agg_func='sum'):\n",
    "    \"\"\"\n",
    "    Создание фрейма с недельной гранулярностью. Среднее значение метрики\n",
    "    с понедельника по воскресенье включительно сохраняется в дату воскресенья.\n",
    "    \"\"\"    \n",
    "    assert agg_func in ['sum', 'mean']\n",
    "    df['timestamp'] = pd.to_datetime(df['timestamp'])\n",
    "    week_df = (df\n",
    "               .assign(period=pd.PeriodIndex(df['timestamp'], freq='W-Sun'))\n",
    "               .groupby(['id', 'period'] + cols_to_keep)\n",
    "               .agg({metric: agg_func for metric in target_metrics}).reset_index())\n",
    "#     week_df['timestamp'] = \\pd.to_datetime((week_df['year'] * 100 + week_df['week']).astype(str) + '0', \n",
    "#                                           format = '%Y%W%w')\n",
    "    week_df['timestamp'] = week_df['period'].dt.to_timestamp(how='end')\n",
    "    week_df['timestamp'] = week_df['timestamp'].dt.normalize()\n",
    "#     week_df['week'] = week_df['timestamp'].dt.weekofyear\n",
    "\n",
    "    return week_df"
   ]
  },
  {
   "cell_type": "code",
   "execution_count": 21,
   "metadata": {},
   "outputs": [],
   "source": [
    "week_df = make_week_frame(df, ['region_nm'], ['rto', 'traffic'], 'sum')"
   ]
  },
  {
   "cell_type": "code",
   "execution_count": 22,
   "metadata": {},
   "outputs": [
    {
     "data": {
      "image/png": "[encoded data removed]",
      "text/plain": [
       "<Figure size 1080x504 with 1 Axes>"
      ]
     },
     "metadata": {},
     "output_type": "display_data"
    }
   ],
   "source": [
    "plotPlantRto(week_df, 40)"
   ]
  },
  {
   "cell_type": "markdown",
   "metadata": {},
   "source": [
    "### Feature engineering"
   ]
  },
  {
   "cell_type": "code",
   "execution_count": 23,
   "metadata": {},
   "outputs": [],
   "source": [
    "### year_before_rto, среднее по региону за текущую неделю, moving_average"
   ]
  },
  {
   "cell_type": "markdown",
   "metadata": {},
   "source": [
    "На данном этапе формируются признаки, которые могут быть полезными для обучения моделей - значения показателя на прошлых неделях n_Weeks_before_rto и разница значения показателя на данной неделе и на предыдущей неделе n_Weeks_before_rto_diff. Признаков можно создать значительно больше, но для простоты бейзлайна оставим так. Также были созданы колонки со значениями показателя в будущем n_Weeks_after_rto, которые не будут использоваться в обучении, а созданы лишь для удобства формирования целевой переменной в обучающих и тестовых датасетах."
   ]
  },
  {
   "cell_type": "code",
   "execution_count": 24,
   "metadata": {},
   "outputs": [],
   "source": [
    "week_df = week_df.sort_values(['timestamp', 'id'])\n",
    "for i in range(4):\n",
    "    week_df[f'{i+1}_Weeks_before_rto'] = week_df.groupby(['id'])['rto'].shift(i+1)\n",
    "    week_df[f'{i+1}_Weeks_before_rto_diff'] = week_df.groupby(['id'])['rto'].diff(i+1)\n",
    "    \n",
    "week_df = week_df.dropna().reset_index().drop(columns=['index'])\n",
    "for i in range(4):\n",
    "    week_df[f'{i+1}_Weeks_after_rto'] = week_df.groupby(['id'])['rto'].shift(-(i+1))"
   ]
  },
  {
   "cell_type": "code",
   "execution_count": 25,
   "metadata": {},
   "outputs": [],
   "source": [
    "week_df['rto_last_year'] = week_df.groupby(['id'])['rto'].shift(53)\n",
    "week_df['rto_last_year'].fillna(week_df.groupby(['id'])['rto_last_year'].shift(-53), inplace=True)"
   ]
  },
  {
   "cell_type": "code",
   "execution_count": 27,
   "metadata": {},
   "outputs": [
    {
     "data": {
      "text/html": [
       "<div>\n",
       "<style scoped>\n",
       "    .dataframe tbody tr th:only-of-type {\n",
       "        vertical-align: middle;\n",
       "    }\n",
       "\n",
       "    .dataframe tbody tr th {\n",
       "        vertical-align: top;\n",
       "    }\n",
       "\n",
       "    .dataframe thead th {\n",
       "        text-align: right;\n",
       "    }\n",
       "</style>\n",
       "<table border=\"1\" class=\"dataframe\">\n",
       "  <thead>\n",
       "    <tr style=\"text-align: right;\">\n",
       "      <th></th>\n",
       "      <th>id</th>\n",
       "      <th>period</th>\n",
       "      <th>region_nm</th>\n",
       "      <th>rto</th>\n",
       "      <th>traffic</th>\n",
       "      <th>timestamp</th>\n",
       "      <th>1_Weeks_before_rto</th>\n",
       "      <th>1_Weeks_before_rto_diff</th>\n",
       "      <th>2_Weeks_before_rto</th>\n",
       "      <th>2_Weeks_before_rto_diff</th>\n",
       "      <th>3_Weeks_before_rto</th>\n",
       "      <th>3_Weeks_before_rto_diff</th>\n",
       "      <th>4_Weeks_before_rto</th>\n",
       "      <th>4_Weeks_before_rto_diff</th>\n",
       "      <th>1_Weeks_after_rto</th>\n",
       "      <th>2_Weeks_after_rto</th>\n",
       "      <th>3_Weeks_after_rto</th>\n",
       "      <th>4_Weeks_after_rto</th>\n",
       "      <th>rto_last_year</th>\n",
       "    </tr>\n",
       "  </thead>\n",
       "  <tbody>\n",
       "    <tr>\n",
       "      <th>0</th>\n",
       "      <td>1</td>\n",
       "      <td>2019-01-28/2019-02-03</td>\n",
       "      <td>Аваллонэ</td>\n",
       "      <td>676487.97</td>\n",
       "      <td>3935.0</td>\n",
       "      <td>2019-02-03</td>\n",
       "      <td>707086.52</td>\n",
       "      <td>-30598.55</td>\n",
       "      <td>723778.15</td>\n",
       "      <td>-47290.18</td>\n",
       "      <td>686159.59</td>\n",
       "      <td>-9671.62</td>\n",
       "      <td>467010.11</td>\n",
       "      <td>209477.86</td>\n",
       "      <td>716537.17</td>\n",
       "      <td>721202.65</td>\n",
       "      <td>731562.44</td>\n",
       "      <td>688507.86</td>\n",
       "      <td>676487.97</td>\n",
       "    </tr>\n",
       "    <tr>\n",
       "      <th>1</th>\n",
       "      <td>2</td>\n",
       "      <td>2019-01-28/2019-02-03</td>\n",
       "      <td>Валимар</td>\n",
       "      <td>655126.39</td>\n",
       "      <td>3315.0</td>\n",
       "      <td>2019-02-03</td>\n",
       "      <td>640498.84</td>\n",
       "      <td>14627.55</td>\n",
       "      <td>650413.53</td>\n",
       "      <td>4712.86</td>\n",
       "      <td>629551.38</td>\n",
       "      <td>25575.01</td>\n",
       "      <td>470225.13</td>\n",
       "      <td>184901.26</td>\n",
       "      <td>652134.91</td>\n",
       "      <td>659287.26</td>\n",
       "      <td>649539.32</td>\n",
       "      <td>653664.83</td>\n",
       "      <td>655126.39</td>\n",
       "    </tr>\n",
       "    <tr>\n",
       "      <th>2</th>\n",
       "      <td>3</td>\n",
       "      <td>2019-01-28/2019-02-03</td>\n",
       "      <td>Ильмарин</td>\n",
       "      <td>593152.20</td>\n",
       "      <td>3504.0</td>\n",
       "      <td>2019-02-03</td>\n",
       "      <td>616039.53</td>\n",
       "      <td>-22887.33</td>\n",
       "      <td>595039.92</td>\n",
       "      <td>-1887.72</td>\n",
       "      <td>622805.31</td>\n",
       "      <td>-29653.11</td>\n",
       "      <td>378291.98</td>\n",
       "      <td>214860.22</td>\n",
       "      <td>587529.27</td>\n",
       "      <td>624342.20</td>\n",
       "      <td>582187.96</td>\n",
       "      <td>609155.17</td>\n",
       "      <td>593152.20</td>\n",
       "    </tr>\n",
       "    <tr>\n",
       "      <th>3</th>\n",
       "      <td>4</td>\n",
       "      <td>2019-01-28/2019-02-03</td>\n",
       "      <td>Тирион</td>\n",
       "      <td>787508.00</td>\n",
       "      <td>2748.0</td>\n",
       "      <td>2019-02-03</td>\n",
       "      <td>749036.10</td>\n",
       "      <td>38471.90</td>\n",
       "      <td>774117.33</td>\n",
       "      <td>13390.67</td>\n",
       "      <td>693229.32</td>\n",
       "      <td>94278.68</td>\n",
       "      <td>418346.13</td>\n",
       "      <td>369161.87</td>\n",
       "      <td>785754.78</td>\n",
       "      <td>749035.79</td>\n",
       "      <td>786116.47</td>\n",
       "      <td>744463.51</td>\n",
       "      <td>787508.00</td>\n",
       "    </tr>\n",
       "    <tr>\n",
       "      <th>4</th>\n",
       "      <td>5</td>\n",
       "      <td>2019-01-28/2019-02-03</td>\n",
       "      <td>Аваллонэ</td>\n",
       "      <td>661115.11</td>\n",
       "      <td>4016.0</td>\n",
       "      <td>2019-02-03</td>\n",
       "      <td>710342.92</td>\n",
       "      <td>-49227.81</td>\n",
       "      <td>670413.20</td>\n",
       "      <td>-9298.09</td>\n",
       "      <td>671656.26</td>\n",
       "      <td>-10541.15</td>\n",
       "      <td>445107.74</td>\n",
       "      <td>216007.37</td>\n",
       "      <td>735181.22</td>\n",
       "      <td>692661.99</td>\n",
       "      <td>704090.31</td>\n",
       "      <td>742689.93</td>\n",
       "      <td>661115.11</td>\n",
       "    </tr>\n",
       "  </tbody>\n",
       "</table>\n",
       "</div>"
      ],
      "text/plain": [
       "   id                 period region_nm        rto  traffic  timestamp  \\\n",
       "0   1  2019-01-28/2019-02-03  Аваллонэ  676487.97   3935.0 2019-02-03   \n",
       "1   2  2019-01-28/2019-02-03   Валимар  655126.39   3315.0 2019-02-03   \n",
       "2   3  2019-01-28/2019-02-03  Ильмарин  593152.20   3504.0 2019-02-03   \n",
       "3   4  2019-01-28/2019-02-03    Тирион  787508.00   2748.0 2019-02-03   \n",
       "4   5  2019-01-28/2019-02-03  Аваллонэ  661115.11   4016.0 2019-02-03   \n",
       "\n",
       "   1_Weeks_before_rto  1_Weeks_before_rto_diff  2_Weeks_before_rto  \\\n",
       "0           707086.52                -30598.55           723778.15   \n",
       "1           640498.84                 14627.55           650413.53   \n",
       "2           616039.53                -22887.33           595039.92   \n",
       "3           749036.10                 38471.90           774117.33   \n",
       "4           710342.92                -49227.81           670413.20   \n",
       "\n",
       "   2_Weeks_before_rto_diff  3_Weeks_before_rto  3_Weeks_before_rto_diff  \\\n",
       "0                -47290.18           686159.59                 -9671.62   \n",
       "1                  4712.86           629551.38                 25575.01   \n",
       "2                 -1887.72           622805.31                -29653.11   \n",
       "3                 13390.67           693229.32                 94278.68   \n",
       "4                 -9298.09           671656.26                -10541.15   \n",
       "\n",
       "   4_Weeks_before_rto  4_Weeks_before_rto_diff  1_Weeks_after_rto  \\\n",
       "0           467010.11                209477.86          716537.17   \n",
       "1           470225.13                184901.26          652134.91   \n",
       "2           378291.98                214860.22          587529.27   \n",
       "3           418346.13                369161.87          785754.78   \n",
       "4           445107.74                216007.37          735181.22   \n",
       "\n",
       "   2_Weeks_after_rto  3_Weeks_after_rto  4_Weeks_after_rto  rto_last_year  \n",
       "0          721202.65          731562.44          688507.86      676487.97  \n",
       "1          659287.26          649539.32          653664.83      655126.39  \n",
       "2          624342.20          582187.96          609155.17      593152.20  \n",
       "3          749035.79          786116.47          744463.51      787508.00  \n",
       "4          692661.99          704090.31          742689.93      661115.11  "
      ]
     },
     "execution_count": 27,
     "metadata": {},
     "output_type": "execute_result"
    }
   ],
   "source": [
    "week_df.head()"
   ]
  },
  {
   "cell_type": "markdown",
   "metadata": {},
   "source": [
    "### Экспериментирование и валидация"
   ]
  },
  {
   "cell_type": "markdown",
   "metadata": {},
   "source": [
    "В данном ноутбуке предложен подход, состоящий из комбинирования четырех моделей, где каждая модель отвечает за предсказание на различное число недель вперед. Модель под номером один предсказывает значение показателя на следующую неделю, модель под номером два - через одну неделю и так далее. \n",
    "\n",
    "Ниже определена функция для формирования данных для обучения и оценки ошибки, а также Кросс Валидация для временных рядов, особенностью которой является тот факт, что на каждом сплите мы обучаемся данных прошлого, а тестируемся на данных будущего относительно некоторого момента времени, что позволяет избежать подглядывание в бущущее при обучении и, как результат, получение смещенной оценки качества на валидации."
   ]
  },
  {
   "cell_type": "code",
   "execution_count": 28,
   "metadata": {},
   "outputs": [],
   "source": [
    "def make_train_target_split(df, model_num, train_idxs, test_idxs):\n",
    "    df_new = df.copy()\n",
    "    df_new['week_num'] = df_new['timestamp'].dt.isocalendar().week\n",
    "    df_new['week_num'] = df_new['timestamp'].dt.isocalendar().week\n",
    "    \n",
    "    cols_to_drop = ([f'{i}_Weeks_after_rto' for i in range(1, 5) if i != model_num]\n",
    "                     + ['timestamp', 'period', 'region_nm'])\n",
    "#     print(model_num, cols_to_drop)\n",
    "    \n",
    "    df_new = df.drop(columns=cols_to_drop).rename(columns={f'{model_num}_Weeks_after_rto': 'target'})\n",
    "    train_data, train_target, test_data, test_target = (df_new.drop(columns=['target']).iloc[train_idxs], \n",
    "                                                        df_new['target'].iloc[train_idxs],\n",
    "                                                        df_new.drop(columns=['target']).iloc[test_idxs],\n",
    "                                                        df_new['target'].iloc[test_idxs])\n",
    "    return train_data[train_target.notna()], train_target[train_target.notna()], test_data, test_target"
   ]
  },
  {
   "cell_type": "code",
   "execution_count": 41,
   "metadata": {},
   "outputs": [],
   "source": [
    "def TimeSeriesCV(df, model_func, metric_func, params, n_splits=5):\n",
    "    tscv = TimeSeriesSplit(n_splits=n_splits, test_size=df['id'].nunique() * 4) \n",
    "    error_dict = {i: [] for i in range(1, 5)}\n",
    "    for train, test in tqdm(tscv.split(df.dropna().values)):\n",
    "        models_dict = {i: model_func(**params) for i in range(1, 5)}\n",
    "        for i in range(1, 5):\n",
    "            train_data, train_target, test_data, test_target = make_train_target_split(\n",
    "                week_df, i, train, test)\n",
    "            models_dict[i].fit(train_data, train_target)\n",
    "            predictions = models_dict[i].predict(test_data)\n",
    "            error_dict[i].append(metric_func(test_target, predictions))\n",
    "    return error_dict"
   ]
  },
  {
   "cell_type": "markdown",
   "metadata": {},
   "source": [
    "- Mean Absolute Percentage Error: метрика качества, используемая в данной работе, то же самое, что и MAE, но более удобная в интерпретации, $[0, +\\infty)$\n",
    "\n",
    "$MAPE = \\frac{100}{n}\\sum\\limits_{i=1}^{n} \\frac{|y_i - \\hat{y}_i|}{y_i}$ \n"
   ]
  },
  {
   "cell_type": "code",
   "execution_count": 42,
   "metadata": {},
   "outputs": [],
   "source": [
    "def mean_absolute_percentage_error(y_true, y_pred): \n",
    "    return np.mean(np.abs((y_true - y_pred) / y_true)) * 100"
   ]
  },
  {
   "cell_type": "code",
   "execution_count": 43,
   "metadata": {},
   "outputs": [],
   "source": [
    "from sklearn.metrics import mean_absolute_error, mean_squared_error"
   ]
  },
  {
   "cell_type": "markdown",
   "metadata": {},
   "source": [
    "### Бейзлайны"
   ]
  },
  {
   "cell_type": "markdown",
   "metadata": {},
   "source": [
    "Протестируем несколько разных алгоритмов решения задачи регрессии. Значение метрики по 10 фолдам кросс-валидации усредняется для каждой из полученных моделей."
   ]
  },
  {
   "cell_type": "markdown",
   "metadata": {},
   "source": [
    "#### Ridge"
   ]
  },
  {
   "cell_type": "code",
   "execution_count": 44,
   "metadata": {
    "scrolled": true
   },
   "outputs": [
    {
     "name": "stderr",
     "output_type": "stream",
     "text": [
      "5it [00:03,  1.50it/s]\n"
     ]
    },
    {
     "name": "stdout",
     "output_type": "stream",
     "text": [
      "{1: 6.0299892772204995, 2: 6.935753606488417, 3: 7.6593069209972855, 4: 8.199686744494866}\n"
     ]
    },
    {
     "name": "stderr",
     "output_type": "stream",
     "text": [
      "5it [00:03,  1.57it/s]"
     ]
    },
    {
     "name": "stdout",
     "output_type": "stream",
     "text": [
      "{1: 49930.08967111609, 2: 58346.51864861265, 3: 65451.020516913406, 4: 70416.39223469453}\n"
     ]
    },
    {
     "name": "stderr",
     "output_type": "stream",
     "text": [
      "\n"
     ]
    }
   ],
   "source": [
    "params = {'normalize': True, 'alpha': 0.01, 'random_state': 0}\n",
    "model_func = Ridge\n",
    "cv_scores = TimeSeriesCV(week_df, model_func, mean_absolute_percentage_error, params)\n",
    "mean_cv_scores = {k: np.mean(v) for k, v in cv_scores.items()}\n",
    "print(mean_cv_scores)\n",
    "\n",
    "cv_scores_mae = TimeSeriesCV(week_df, model_func, mean_absolute_error, params)\n",
    "mean_cv_scores_mae = {k: np.mean(v) for k, v in cv_scores_mae.items()}\n",
    "print(mean_cv_scores_mae)"
   ]
  },
  {
   "cell_type": "markdown",
   "metadata": {},
   "source": [
    "#### Linear Regression (no normalization) "
   ]
  },
  {
   "cell_type": "code",
   "execution_count": 49,
   "metadata": {},
   "outputs": [
    {
     "name": "stderr",
     "output_type": "stream",
     "text": [
      "Exception ignored in: <function tqdm.__del__ at 0x129723af0>\n",
      "Traceback (most recent call last):\n",
      "  File \"/usr/local/lib/python3.9/site-packages/tqdm/std.py\", line 1162, in __del__\n",
      "    self.close()\n",
      "  File \"/usr/local/lib/python3.9/site-packages/tqdm/notebook.py\", line 289, in close\n",
      "    self.disp(bar_style='success', check_delay=False)\n",
      "AttributeError: 'tqdm_notebook' object has no attribute 'disp'\n",
      "5it [00:04,  1.15it/s]\n"
     ]
    },
    {
     "name": "stdout",
     "output_type": "stream",
     "text": [
      "{1: 6.011077887930701, 2: 6.920949560762229, 3: 7.648408497434427, 4: 8.189234823161373}\n"
     ]
    },
    {
     "name": "stderr",
     "output_type": "stream",
     "text": [
      "5it [00:04,  1.16it/s]"
     ]
    },
    {
     "name": "stdout",
     "output_type": "stream",
     "text": [
      "{1: 49656.28112056869, 2: 58104.501331028914, 3: 65237.75689995388, 4: 70192.85869829223}\n"
     ]
    },
    {
     "name": "stderr",
     "output_type": "stream",
     "text": [
      "\n"
     ]
    }
   ],
   "source": [
    "params = {'normalize': True}\n",
    "model_func = LinearRegression\n",
    "cv_scores = TimeSeriesCV(week_df, model_func, mean_absolute_percentage_error, params)\n",
    "mean_cv_scores = {k: np.mean(v) for k, v in cv_scores.items()}\n",
    "print(mean_cv_scores)\n",
    "\n",
    "cv_scores_mae = TimeSeriesCV(week_df, model_func, mean_absolute_error, params)\n",
    "mean_cv_scores_mae = {k: np.mean(v) for k, v in cv_scores_mae.items()}\n",
    "print(mean_cv_scores_mae)"
   ]
  },
  {
   "cell_type": "markdown",
   "metadata": {},
   "source": [
    "#### Random Forest"
   ]
  },
  {
   "cell_type": "code",
   "execution_count": 50,
   "metadata": {},
   "outputs": [
    {
     "name": "stderr",
     "output_type": "stream",
     "text": [
      "5it [57:46, 693.37s/it]\n"
     ]
    },
    {
     "name": "stdout",
     "output_type": "stream",
     "text": [
      "{1: 6.209267168803651, 2: 7.050820552708645, 3: 7.946311196011406, 4: 8.605546374708613}\n"
     ]
    },
    {
     "name": "stderr",
     "output_type": "stream",
     "text": [
      "5it [5:01:34, 3618.90s/it]\n"
     ]
    },
    {
     "name": "stdout",
     "output_type": "stream",
     "text": [
      "{1: 51321.13680966224, 2: 59395.06420325709, 3: 67592.50610594642, 4: 72902.75973690778}\n"
     ]
    }
   ],
   "source": [
    "params = {'max_depth': 20, 'n_estimators': 100}\n",
    "model_func = RandomForestRegressor\n",
    "cv_scores = TimeSeriesCV(week_df, model_func, mean_absolute_percentage_error, params)\n",
    "mean_cv_scores = {k: np.mean(v) for k, v in cv_scores.items()}\n",
    "print(mean_cv_scores)\n",
    "\n",
    "cv_scores_mae = TimeSeriesCV(week_df, model_func, mean_absolute_error, params)\n",
    "mean_cv_scores_mae = {k: np.mean(v) for k, v in cv_scores_mae.items()}\n",
    "print(mean_cv_scores_mae)"
   ]
  },
  {
   "cell_type": "code",
   "execution_count": 51,
   "metadata": {},
   "outputs": [
    {
     "name": "stderr",
     "output_type": "stream",
     "text": [
      "5it [55:57, 671.55s/it]\n"
     ]
    },
    {
     "name": "stdout",
     "output_type": "stream",
     "text": [
      "{1: 6.281950125904723, 2: 7.133451510953985, 3: 8.067419944686451, 4: 8.71281697755646}\n"
     ]
    },
    {
     "name": "stderr",
     "output_type": "stream",
     "text": [
      "5it [51:32, 618.47s/it]\n"
     ]
    },
    {
     "name": "stdout",
     "output_type": "stream",
     "text": [
      "{1: 51913.466324525, 2: 60087.71952737833, 3: 68521.12256774, 4: 73615.52374819301}\n"
     ]
    }
   ],
   "source": [
    "params = {'max_depth': 80, 'n_estimators': 100}\n",
    "model_func = RandomForestRegressor\n",
    "cv_scores = TimeSeriesCV(week_df, model_func, mean_absolute_percentage_error, params)\n",
    "mean_cv_scores = {k: np.mean(v) for k, v in cv_scores.items()}\n",
    "print(mean_cv_scores)\n",
    "\n",
    "cv_scores_mae = TimeSeriesCV(week_df, model_func, mean_absolute_error, params)\n",
    "mean_cv_scores_mae = {k: np.mean(v) for k, v in cv_scores_mae.items()}\n",
    "print(mean_cv_scores_mae)"
   ]
  },
  {
   "cell_type": "markdown",
   "metadata": {},
   "source": [
    "#### XGB"
   ]
  },
  {
   "cell_type": "code",
   "execution_count": 52,
   "metadata": {
    "scrolled": true
   },
   "outputs": [
    {
     "name": "stderr",
     "output_type": "stream",
     "text": [
      "5it [4:51:11, 3494.34s/it]\n"
     ]
    },
    {
     "name": "stdout",
     "output_type": "stream",
     "text": [
      "{1: 6.816360381148063, 2: 7.7945694067379865, 3: 8.82706139810452, 4: 9.474741733164784}\n"
     ]
    },
    {
     "name": "stderr",
     "output_type": "stream",
     "text": [
      "5it [2:11:45, 1581.12s/it]"
     ]
    },
    {
     "name": "stdout",
     "output_type": "stream",
     "text": [
      "{1: 56313.01971440625, 2: 65780.7352564375, 3: 74589.21669728126, 4: 80244.064130875}\n"
     ]
    },
    {
     "name": "stderr",
     "output_type": "stream",
     "text": [
      "\n"
     ]
    }
   ],
   "source": [
    "params = {'booster': 'gbtree', 'max_depth': '20', 'n_estimators': 50}\n",
    "model_func = XGBRegressor\n",
    "cv_scores = TimeSeriesCV(week_df, model_func, mean_absolute_percentage_error, params)\n",
    "mean_cv_scores = {k: np.mean(v) for k, v in cv_scores.items()}\n",
    "print(mean_cv_scores)\n",
    "\n",
    "cv_scores_mae = TimeSeriesCV(week_df, model_func, mean_absolute_error, params)\n",
    "mean_cv_scores_mae = {k: np.mean(v) for k, v in cv_scores_mae.items()}\n",
    "print(mean_cv_scores_mae)"
   ]
  },
  {
   "cell_type": "code",
   "execution_count": 53,
   "metadata": {},
   "outputs": [
    {
     "name": "stderr",
     "output_type": "stream",
     "text": [
      "  0%|                                                     | 0/6 [00:00<?, ?it/s]\n",
      "0it [00:00, ?it/s]\u001b[A\n",
      "1it [00:03,  4.00s/it]\u001b[A\n",
      "2it [00:13,  7.08s/it]\u001b[A\n",
      "3it [00:23,  8.67s/it]\u001b[A\n",
      "4it [00:29,  7.33s/it]\u001b[A\n",
      "5it [00:35,  7.16s/it]\u001b[A\n"
     ]
    },
    {
     "name": "stdout",
     "output_type": "stream",
     "text": [
      "{1: 6.015265638445157, 2: 6.9604171568043, 3: 7.685827472096188, 4: 8.25530795413934}\n"
     ]
    },
    {
     "name": "stderr",
     "output_type": "stream",
     "text": [
      "\n",
      "0it [00:00, ?it/s]\u001b[A\n",
      "1it [00:04,  4.18s/it]\u001b[A\n",
      "2it [00:07,  3.78s/it]\u001b[A\n",
      "3it [00:11,  3.76s/it]\u001b[A\n",
      "4it [00:14,  3.66s/it]\u001b[A\n",
      "5it [00:18,  3.72s/it]\u001b[A\n"
     ]
    },
    {
     "name": "stdout",
     "output_type": "stream",
     "text": [
      "{1: 49582.87361321874, 2: 58040.03477478125, 3: 65135.40898553126, 4: 70107.62315671876}\n"
     ]
    },
    {
     "name": "stderr",
     "output_type": "stream",
     "text": [
      "\n",
      "0it [00:00, ?it/s]\u001b[A\n",
      "1it [00:04,  4.30s/it]\u001b[A\n",
      "2it [00:08,  4.38s/it]\u001b[A\n",
      "3it [00:12,  4.30s/it]\u001b[A\n",
      "4it [00:16,  4.05s/it]\u001b[A\n",
      "5it [00:22,  4.43s/it]\u001b[A\n"
     ]
    },
    {
     "name": "stdout",
     "output_type": "stream",
     "text": [
      "{1: 6.0418333750269655, 2: 6.952792772656759, 3: 7.696338966432404, 4: 8.20641934409533}\n"
     ]
    },
    {
     "name": "stderr",
     "output_type": "stream",
     "text": [
      "\n",
      "0it [00:00, ?it/s]\u001b[A\n",
      "1it [00:05,  5.24s/it]\u001b[A\n",
      "2it [00:09,  4.79s/it]\u001b[A\n",
      "3it [00:14,  4.75s/it]\u001b[A\n",
      "4it [00:19,  4.80s/it]\u001b[A\n",
      "5it [00:24,  4.84s/it]\u001b[A\n"
     ]
    },
    {
     "name": "stdout",
     "output_type": "stream",
     "text": [
      "{1: 49818.18265565626, 2: 58114.365285562504, 3: 65293.868533718734, 4: 70083.18134040626}\n"
     ]
    },
    {
     "name": "stderr",
     "output_type": "stream",
     "text": [
      "\n",
      "0it [00:00, ?it/s]\u001b[A\n",
      "1it [00:04,  4.28s/it]\u001b[A\n",
      "2it [00:08,  4.06s/it]\u001b[A\n",
      "3it [00:11,  3.92s/it]\u001b[A\n",
      "4it [00:16,  4.12s/it]\u001b[A\n",
      "5it [00:21,  4.36s/it]\u001b[A\n"
     ]
    },
    {
     "name": "stdout",
     "output_type": "stream",
     "text": [
      "{1: 6.046574919258807, 2: 6.9498366548089034, 3: 7.675042503020362, 4: 8.221698485456626}\n"
     ]
    },
    {
     "name": "stderr",
     "output_type": "stream",
     "text": [
      "\n",
      "0it [00:00, ?it/s]\u001b[A\n",
      "1it [00:04,  4.40s/it]\u001b[A\n",
      "2it [00:09,  4.52s/it]\u001b[A\n",
      "3it [00:13,  4.58s/it]\u001b[A\n",
      "4it [00:18,  4.68s/it]\u001b[A\n",
      "5it [00:25,  5.10s/it]\u001b[A\n"
     ]
    },
    {
     "name": "stdout",
     "output_type": "stream",
     "text": [
      "{1: 49796.583599375, 2: 58093.89539965625, 3: 65484.02502181249, 4: 69939.52222084375}\n"
     ]
    },
    {
     "name": "stderr",
     "output_type": "stream",
     "text": [
      "\n",
      "0it [00:00, ?it/s]\u001b[A\n",
      "1it [00:05,  5.03s/it]\u001b[A\n",
      "2it [00:11,  5.91s/it]\u001b[A\n",
      "3it [00:22,  8.08s/it]\u001b[A\n",
      "4it [00:47, 14.78s/it]\u001b[A\n",
      "5it [00:57, 11.45s/it]\u001b[A\n"
     ]
    },
    {
     "name": "stdout",
     "output_type": "stream",
     "text": [
      "{1: 6.024963474728686, 2: 6.9516687931155925, 3: 7.7038832212734265, 4: 8.230089217676676}\n"
     ]
    },
    {
     "name": "stderr",
     "output_type": "stream",
     "text": [
      "\n",
      "0it [00:00, ?it/s]\u001b[A\n",
      "1it [00:06,  6.41s/it]\u001b[A\n",
      "2it [00:11,  5.42s/it]\u001b[A\n",
      "3it [00:15,  5.15s/it]\u001b[A\n",
      "4it [00:21,  5.36s/it]\u001b[A\n",
      "5it [00:28,  5.67s/it]\u001b[A\n"
     ]
    },
    {
     "name": "stdout",
     "output_type": "stream",
     "text": [
      "{1: 49698.17888303124, 2: 58238.0662291875, 3: 65213.23963928125, 4: 70004.90174162501}\n"
     ]
    },
    {
     "name": "stderr",
     "output_type": "stream",
     "text": [
      "\n",
      "0it [00:00, ?it/s]\u001b[A\n",
      "1it [00:04,  4.42s/it]\u001b[A\n",
      "2it [00:08,  4.39s/it]\u001b[A\n",
      "3it [00:13,  4.34s/it]\u001b[A\n",
      "4it [00:17,  4.33s/it]\u001b[A\n",
      "5it [00:21,  4.36s/it]\u001b[A\n"
     ]
    },
    {
     "name": "stdout",
     "output_type": "stream",
     "text": [
      "{1: 6.025125189688113, 2: 6.948282987309385, 3: 7.671199295075148, 4: 8.204195358095763}\n"
     ]
    },
    {
     "name": "stderr",
     "output_type": "stream",
     "text": [
      "\n",
      "0it [00:00, ?it/s]\u001b[A\n",
      "1it [00:03,  3.39s/it]\u001b[A\n",
      "2it [00:06,  3.47s/it]\u001b[A\n",
      "3it [00:11,  3.89s/it]\u001b[A\n",
      "4it [00:17,  4.89s/it]\u001b[A\n",
      "5it [00:23,  4.64s/it]\u001b[A\n"
     ]
    },
    {
     "name": "stdout",
     "output_type": "stream",
     "text": [
      "{1: 49626.67363190625, 2: 58045.42641174999, 3: 65145.0408155, 4: 69837.79145475}\n"
     ]
    },
    {
     "name": "stderr",
     "output_type": "stream",
     "text": [
      "\n",
      "0it [00:00, ?it/s]\u001b[A\n",
      "1it [00:04,  4.53s/it]\u001b[A\n",
      "2it [00:09,  4.81s/it]\u001b[A\n",
      "3it [00:14,  4.87s/it]\u001b[A\n",
      "4it [00:19,  5.10s/it]\u001b[A\n",
      "5it [00:25,  5.05s/it]\u001b[A\n"
     ]
    },
    {
     "name": "stdout",
     "output_type": "stream",
     "text": [
      "{1: 6.045495105171419, 2: 6.956021550708752, 3: 7.6552131943290025, 4: 8.197720754970769}\n"
     ]
    },
    {
     "name": "stderr",
     "output_type": "stream",
     "text": [
      "\n",
      "0it [00:00, ?it/s]\u001b[A\n",
      "1it [00:04,  4.46s/it]\u001b[A\n",
      "2it [00:09,  5.00s/it]\u001b[A\n",
      "3it [00:15,  5.28s/it]\u001b[A\n",
      "4it [00:20,  5.26s/it]\u001b[A\n",
      "5it [00:25,  5.15s/it]\u001b[A\n",
      " 17%|███████▎                                    | 1/6 [05:43<28:36, 343.38s/it]"
     ]
    },
    {
     "name": "stdout",
     "output_type": "stream",
     "text": [
      "{1: 49741.18943175, 2: 58073.5918398125, 3: 65320.947491875, 4: 69829.30368403126}\n"
     ]
    },
    {
     "name": "stderr",
     "output_type": "stream",
     "text": [
      "\n",
      "0it [00:00, ?it/s]\u001b[A\n",
      "1it [00:05,  5.17s/it]\u001b[A\n",
      "2it [00:09,  4.75s/it]\u001b[A\n",
      "3it [00:13,  4.51s/it]\u001b[A\n",
      "4it [00:18,  4.57s/it]\u001b[A\n",
      "5it [00:23,  4.65s/it]\u001b[A\n"
     ]
    },
    {
     "name": "stdout",
     "output_type": "stream",
     "text": [
      "{1: 6.032387306409406, 2: 6.938667849311168, 3: 7.6840540893969305, 4: 8.21155701246209}\n"
     ]
    },
    {
     "name": "stderr",
     "output_type": "stream",
     "text": [
      "\n",
      "0it [00:00, ?it/s]\u001b[A\n",
      "1it [00:03,  3.90s/it]\u001b[A\n",
      "2it [00:08,  4.10s/it]\u001b[A\n",
      "3it [00:12,  4.25s/it]\u001b[A\n",
      "4it [00:16,  4.21s/it]\u001b[A\n",
      "5it [00:21,  4.30s/it]\u001b[A\n"
     ]
    },
    {
     "name": "stdout",
     "output_type": "stream",
     "text": [
      "{1: 49646.479858499995, 2: 58054.99791865625, 3: 65446.9867776875, 4: 69917.7169614375}\n"
     ]
    },
    {
     "name": "stderr",
     "output_type": "stream",
     "text": [
      "\n",
      "0it [00:00, ?it/s]\u001b[A\n",
      "1it [00:03,  3.75s/it]\u001b[A\n",
      "2it [00:07,  3.97s/it]\u001b[A\n",
      "3it [00:11,  3.97s/it]\u001b[A\n",
      "4it [00:15,  4.02s/it]\u001b[A\n",
      "5it [00:20,  4.08s/it]\u001b[A\n"
     ]
    },
    {
     "name": "stdout",
     "output_type": "stream",
     "text": [
      "{1: 6.039774382869437, 2: 6.948437068293647, 3: 7.67437438619987, 4: 8.217641181106575}\n"
     ]
    },
    {
     "name": "stderr",
     "output_type": "stream",
     "text": [
      "\n",
      "0it [00:00, ?it/s]\u001b[A\n",
      "1it [00:04,  4.06s/it]\u001b[A\n",
      "2it [00:11,  5.93s/it]\u001b[A\n",
      "3it [00:16,  5.62s/it]\u001b[A\n",
      "4it [00:22,  5.76s/it]\u001b[A\n",
      "5it [00:27,  5.57s/it]\u001b[A\n"
     ]
    },
    {
     "name": "stdout",
     "output_type": "stream",
     "text": [
      "{1: 49972.3695385, 2: 58008.27314881251, 3: 65240.87362828125, 4: 69971.03079690626}\n"
     ]
    },
    {
     "name": "stderr",
     "output_type": "stream",
     "text": [
      "\n",
      "0it [00:00, ?it/s]\u001b[A\n",
      "1it [00:04,  4.15s/it]\u001b[A\n",
      "2it [00:10,  5.31s/it]\u001b[A\n",
      "3it [00:16,  5.68s/it]\u001b[A\n",
      "4it [00:22,  5.66s/it]\u001b[A\n",
      "5it [00:27,  5.50s/it]\u001b[A\n"
     ]
    },
    {
     "name": "stdout",
     "output_type": "stream",
     "text": [
      "{1: 6.0409865441373745, 2: 6.945670329489296, 3: 7.675098895415113, 4: 8.173060539971166}\n"
     ]
    },
    {
     "name": "stderr",
     "output_type": "stream",
     "text": [
      "\n",
      "0it [00:00, ?it/s]\u001b[A\n",
      "1it [00:04,  4.36s/it]\u001b[A\n",
      "2it [00:08,  4.39s/it]\u001b[A\n",
      "3it [00:12,  4.29s/it]\u001b[A\n",
      "4it [00:17,  4.39s/it]\u001b[A\n",
      "5it [00:22,  4.42s/it]\u001b[A\n"
     ]
    },
    {
     "name": "stdout",
     "output_type": "stream",
     "text": [
      "{1: 49822.4951754375, 2: 58085.89878853125, 3: 65219.45018546875, 4: 70095.25081459375}\n"
     ]
    },
    {
     "name": "stderr",
     "output_type": "stream",
     "text": [
      "\n",
      "0it [00:00, ?it/s]\u001b[A\n",
      "1it [00:04,  4.13s/it]\u001b[A\n",
      "2it [00:08,  4.18s/it]\u001b[A\n",
      "3it [00:14,  4.92s/it]\u001b[A\n",
      "4it [00:20,  5.45s/it]\u001b[A\n",
      "5it [00:25,  5.13s/it]\u001b[A\n"
     ]
    },
    {
     "name": "stdout",
     "output_type": "stream",
     "text": [
      "{1: 6.040520930104213, 2: 6.959487285079467, 3: 7.672645263261056, 4: 8.210468595266871}\n"
     ]
    },
    {
     "name": "stderr",
     "output_type": "stream",
     "text": [
      "\n",
      "0it [00:00, ?it/s]\u001b[A\n",
      "1it [00:04,  4.58s/it]\u001b[A\n",
      "2it [00:09,  4.79s/it]\u001b[A\n",
      "3it [00:14,  4.91s/it]\u001b[A\n",
      "4it [00:19,  4.77s/it]\u001b[A\n",
      "5it [00:24,  4.83s/it]\u001b[A\n"
     ]
    },
    {
     "name": "stdout",
     "output_type": "stream",
     "text": [
      "{1: 49638.88851431249, 2: 58105.948505312495, 3: 65191.390704906255, 4: 70044.1386245}\n"
     ]
    },
    {
     "name": "stderr",
     "output_type": "stream",
     "text": [
      "\n",
      "0it [00:00, ?it/s]\u001b[A\n",
      "1it [00:04,  4.53s/it]\u001b[A\n",
      "2it [00:08,  4.07s/it]\u001b[A\n",
      "3it [00:12,  4.16s/it]\u001b[A\n",
      "4it [00:18,  4.80s/it]\u001b[A\n",
      "5it [00:23,  4.71s/it]\u001b[A\n"
     ]
    },
    {
     "name": "stdout",
     "output_type": "stream",
     "text": [
      "{1: 6.06149592900414, 2: 6.944816467867542, 3: 7.679584497782278, 4: 8.211979740758911}\n"
     ]
    },
    {
     "name": "stderr",
     "output_type": "stream",
     "text": [
      "\n",
      "0it [00:00, ?it/s]\u001b[A\n",
      "1it [00:04,  4.13s/it]\u001b[A\n",
      "2it [00:08,  4.09s/it]\u001b[A\n",
      "3it [00:12,  4.23s/it]\u001b[A\n",
      "4it [00:17,  4.43s/it]\u001b[A\n",
      "5it [00:22,  4.46s/it]\u001b[A\n"
     ]
    },
    {
     "name": "stdout",
     "output_type": "stream",
     "text": [
      "{1: 49696.883749468754, 2: 58082.239397937505, 3: 65061.494033124996, 4: 69971.369826}\n"
     ]
    },
    {
     "name": "stderr",
     "output_type": "stream",
     "text": [
      "\n",
      "0it [00:00, ?it/s]\u001b[A\n",
      "1it [00:04,  4.09s/it]\u001b[A\n",
      "2it [00:08,  4.01s/it]\u001b[A\n",
      "3it [00:12,  4.04s/it]\u001b[A\n",
      "4it [00:18,  4.90s/it]\u001b[A\n",
      "5it [00:22,  4.57s/it]\u001b[A\n"
     ]
    },
    {
     "name": "stdout",
     "output_type": "stream",
     "text": [
      "{1: 6.04050475879707, 2: 6.94869242510191, 3: 7.67873347781587, 4: 8.178513709059505}\n"
     ]
    },
    {
     "name": "stderr",
     "output_type": "stream",
     "text": [
      "\n",
      "0it [00:00, ?it/s]\u001b[A\n",
      "1it [00:11, 11.45s/it]\u001b[A\n",
      "2it [00:15,  7.10s/it]\u001b[A\n",
      "3it [00:23,  7.49s/it]\u001b[A\n",
      "4it [00:29,  7.10s/it]\u001b[A\n",
      "5it [00:34,  6.98s/it]\u001b[A\n",
      " 33%|██████████████▋                             | 2/6 [10:50<21:28, 322.24s/it]"
     ]
    },
    {
     "name": "stdout",
     "output_type": "stream",
     "text": [
      "{1: 49557.072560500004, 2: 58106.24160093749, 3: 65158.36667575, 4: 69996.8003660625}\n"
     ]
    },
    {
     "name": "stderr",
     "output_type": "stream",
     "text": [
      "\n",
      "0it [00:00, ?it/s]\u001b[A\n",
      "1it [00:04,  4.51s/it]\u001b[A\n",
      "2it [00:09,  5.00s/it]\u001b[A\n",
      "3it [00:15,  5.35s/it]\u001b[A\n",
      "4it [00:20,  5.13s/it]\u001b[A\n",
      "5it [00:27,  5.42s/it]\u001b[A\n"
     ]
    },
    {
     "name": "stdout",
     "output_type": "stream",
     "text": [
      "{1: 6.0328185868296496, 2: 6.94428296756233, 3: 7.691247217143179, 4: 8.199300027787142}\n"
     ]
    },
    {
     "name": "stderr",
     "output_type": "stream",
     "text": [
      "\n",
      "0it [00:00, ?it/s]\u001b[A\n",
      "1it [00:06,  6.75s/it]\u001b[A\n",
      "2it [00:11,  5.55s/it]\u001b[A\n",
      "3it [00:15,  5.03s/it]\u001b[A\n",
      "4it [00:21,  5.42s/it]\u001b[A\n",
      "5it [00:28,  5.65s/it]\u001b[A\n"
     ]
    },
    {
     "name": "stdout",
     "output_type": "stream",
     "text": [
      "{1: 49875.18923537501, 2: 58099.776959375, 3: 65273.21437803124, 4: 70059.62272346877}\n"
     ]
    },
    {
     "name": "stderr",
     "output_type": "stream",
     "text": [
      "\n",
      "0it [00:00, ?it/s]\u001b[A\n",
      "1it [00:04,  4.09s/it]\u001b[A\n",
      "2it [00:08,  4.16s/it]\u001b[A\n",
      "3it [00:12,  4.16s/it]\u001b[A\n",
      "4it [00:16,  4.17s/it]\u001b[A\n",
      "5it [00:20,  4.19s/it]\u001b[A\n"
     ]
    },
    {
     "name": "stdout",
     "output_type": "stream",
     "text": [
      "{1: 6.034848095213437, 2: 6.947527359278038, 3: 7.677373024933601, 4: 8.205726675022706}\n"
     ]
    },
    {
     "name": "stderr",
     "output_type": "stream",
     "text": [
      "\n",
      "0it [00:00, ?it/s]\u001b[A\n",
      "1it [00:03,  3.70s/it]\u001b[A\n",
      "2it [00:07,  3.91s/it]\u001b[A\n",
      "3it [00:12,  4.34s/it]\u001b[A\n",
      "4it [00:17,  4.48s/it]\u001b[A\n",
      "5it [00:22,  4.43s/it]\u001b[A\n"
     ]
    },
    {
     "name": "stdout",
     "output_type": "stream",
     "text": [
      "{1: 49701.56908934376, 2: 58172.223080250005, 3: 65020.26642040625, 4: 70020.59582971876}\n"
     ]
    },
    {
     "name": "stderr",
     "output_type": "stream",
     "text": [
      "\n",
      "0it [00:00, ?it/s]\u001b[A\n",
      "1it [00:03,  3.90s/it]\u001b[A\n",
      "2it [00:08,  4.07s/it]\u001b[A\n",
      "3it [00:12,  4.16s/it]\u001b[A\n",
      "4it [00:16,  4.24s/it]\u001b[A\n",
      "5it [00:21,  4.28s/it]\u001b[A\n"
     ]
    },
    {
     "name": "stdout",
     "output_type": "stream",
     "text": [
      "{1: 6.047041018826174, 2: 6.946619724541715, 3: 7.67833570249252, 4: 8.219497322125058}\n"
     ]
    },
    {
     "name": "stderr",
     "output_type": "stream",
     "text": [
      "\n",
      "0it [00:00, ?it/s]\u001b[A\n",
      "1it [00:03,  3.89s/it]\u001b[A\n",
      "2it [00:07,  3.90s/it]\u001b[A\n",
      "3it [00:12,  4.06s/it]\u001b[A\n",
      "4it [00:16,  4.04s/it]\u001b[A\n",
      "5it [00:19,  3.97s/it]\u001b[A\n"
     ]
    },
    {
     "name": "stdout",
     "output_type": "stream",
     "text": [
      "{1: 49660.09889750001, 2: 58097.32324037501, 3: 65179.42316940626, 4: 70079.9449815625}\n"
     ]
    },
    {
     "name": "stderr",
     "output_type": "stream",
     "text": [
      "\n",
      "0it [00:00, ?it/s]\u001b[A\n",
      "1it [00:03,  3.51s/it]\u001b[A\n",
      "2it [00:07,  3.84s/it]\u001b[A\n",
      "3it [00:11,  3.80s/it]\u001b[A\n",
      "4it [00:15,  3.82s/it]\u001b[A\n",
      "5it [00:19,  3.90s/it]\u001b[A\n"
     ]
    },
    {
     "name": "stdout",
     "output_type": "stream",
     "text": [
      "{1: 5.996123928161922, 2: 6.945005857895216, 3: 7.660384463636115, 4: 8.212870852893365}\n"
     ]
    },
    {
     "name": "stderr",
     "output_type": "stream",
     "text": [
      "\n",
      "0it [00:00, ?it/s]\u001b[A\n",
      "1it [00:03,  3.49s/it]\u001b[A\n",
      "2it [00:07,  3.81s/it]\u001b[A\n",
      "3it [00:14,  5.16s/it]\u001b[A\n",
      "4it [00:21,  5.96s/it]\u001b[A\n",
      "5it [00:26,  5.37s/it]\u001b[A\n"
     ]
    },
    {
     "name": "stdout",
     "output_type": "stream",
     "text": [
      "{1: 49562.280514531245, 2: 58144.89828803125, 3: 64978.27155821875, 4: 70287.74700340626}\n"
     ]
    },
    {
     "name": "stderr",
     "output_type": "stream",
     "text": [
      "\n",
      "0it [00:00, ?it/s]\u001b[A\n",
      "1it [00:04,  4.21s/it]\u001b[A\n",
      "2it [00:08,  4.50s/it]\u001b[A\n",
      "3it [00:21,  8.31s/it]\u001b[A\n",
      "4it [00:26,  7.01s/it]\u001b[A\n",
      "5it [00:31,  6.37s/it]\u001b[A\n"
     ]
    },
    {
     "name": "stdout",
     "output_type": "stream",
     "text": [
      "{1: 6.097764999185841, 2: 6.9362637883889775, 3: 7.660866211334893, 4: 8.211676265469794}\n"
     ]
    },
    {
     "name": "stderr",
     "output_type": "stream",
     "text": [
      "\n",
      "0it [00:00, ?it/s]\u001b[A\n",
      "1it [00:05,  5.16s/it]\u001b[A\n",
      "2it [00:09,  4.79s/it]\u001b[A\n",
      "3it [00:14,  4.78s/it]\u001b[A\n",
      "4it [00:19,  5.00s/it]\u001b[A\n",
      "5it [00:25,  5.10s/it]\u001b[A\n"
     ]
    },
    {
     "name": "stdout",
     "output_type": "stream",
     "text": [
      "{1: 49669.53638184375, 2: 58116.464616437486, 3: 65318.22154453125, 4: 70025.05479790624}\n"
     ]
    },
    {
     "name": "stderr",
     "output_type": "stream",
     "text": [
      "\n",
      "0it [00:00, ?it/s]\u001b[A\n",
      "1it [00:04,  4.52s/it]\u001b[A\n",
      "2it [00:13,  7.24s/it]\u001b[A\n",
      "3it [00:21,  7.36s/it]\u001b[A\n",
      "4it [00:25,  6.19s/it]\u001b[A\n",
      "5it [00:31,  6.35s/it]\u001b[A\n"
     ]
    },
    {
     "name": "stdout",
     "output_type": "stream",
     "text": [
      "{1: 6.023563447634673, 2: 6.94971640034103, 3: 7.672671978094913, 4: 8.262845327648927}\n"
     ]
    },
    {
     "name": "stderr",
     "output_type": "stream",
     "text": [
      "\n",
      "0it [00:00, ?it/s]\u001b[A\n",
      "1it [00:03,  3.97s/it]\u001b[A\n",
      "2it [00:07,  3.85s/it]\u001b[A\n",
      "3it [00:13,  4.58s/it]\u001b[A\n",
      "4it [00:18,  5.03s/it]\u001b[A\n",
      "5it [00:24,  4.88s/it]\u001b[A\n",
      " 50%|██████████████████████                      | 3/6 [16:02<15:52, 317.41s/it]"
     ]
    },
    {
     "name": "stdout",
     "output_type": "stream",
     "text": [
      "{1: 49585.955922124995, 2: 58172.67269071875, 3: 65344.19404978125, 4: 70209.126696625}\n"
     ]
    },
    {
     "name": "stderr",
     "output_type": "stream",
     "text": [
      "\n",
      "0it [00:00, ?it/s]\u001b[A\n",
      "1it [00:03,  3.82s/it]\u001b[A\n",
      "2it [00:08,  4.30s/it]\u001b[A\n",
      "3it [00:12,  4.13s/it]\u001b[A\n",
      "4it [00:16,  4.13s/it]\u001b[A\n",
      "5it [00:20,  4.07s/it]\u001b[A\n"
     ]
    },
    {
     "name": "stdout",
     "output_type": "stream",
     "text": [
      "{1: 6.02871681272289, 2: 6.952698378956891, 3: 7.6672219418012215, 4: 8.176799046851974}\n"
     ]
    },
    {
     "name": "stderr",
     "output_type": "stream",
     "text": [
      "\n",
      "0it [00:00, ?it/s]\u001b[A\n",
      "1it [00:03,  3.44s/it]\u001b[A\n",
      "2it [00:07,  3.51s/it]\u001b[A\n",
      "3it [00:11,  3.76s/it]\u001b[A\n",
      "4it [00:15,  3.92s/it]\u001b[A\n",
      "5it [00:19,  3.82s/it]\u001b[A\n"
     ]
    },
    {
     "name": "stdout",
     "output_type": "stream",
     "text": [
      "{1: 49631.779590687496, 2: 58080.16265499999, 3: 65253.211808406246, 4: 70125.88640525}\n"
     ]
    },
    {
     "name": "stderr",
     "output_type": "stream",
     "text": [
      "\n",
      "0it [00:00, ?it/s]\u001b[A\n",
      "1it [00:03,  3.07s/it]\u001b[A\n",
      "2it [00:06,  3.17s/it]\u001b[A\n",
      "3it [00:09,  3.32s/it]\u001b[A\n",
      "4it [00:13,  3.58s/it]\u001b[A\n",
      "5it [00:17,  3.49s/it]\u001b[A\n"
     ]
    },
    {
     "name": "stdout",
     "output_type": "stream",
     "text": [
      "{1: 6.036751309029335, 2: 6.941685698197463, 3: 7.678115217543072, 4: 8.23730442047674}\n"
     ]
    },
    {
     "name": "stderr",
     "output_type": "stream",
     "text": [
      "\n",
      "0it [00:00, ?it/s]\u001b[A\n",
      "1it [00:03,  3.21s/it]\u001b[A\n",
      "2it [00:06,  3.29s/it]\u001b[A\n",
      "3it [00:10,  3.45s/it]\u001b[A\n",
      "4it [00:13,  3.52s/it]\u001b[A\n",
      "5it [00:17,  3.50s/it]\u001b[A\n"
     ]
    },
    {
     "name": "stdout",
     "output_type": "stream",
     "text": [
      "{1: 49757.75091168749, 2: 58103.918314531256, 3: 65168.05183224999, 4: 69829.5622724375}\n"
     ]
    },
    {
     "name": "stderr",
     "output_type": "stream",
     "text": [
      "\n",
      "0it [00:00, ?it/s]\u001b[A\n",
      "1it [00:03,  3.43s/it]\u001b[A\n",
      "2it [00:06,  3.49s/it]\u001b[A\n",
      "3it [00:11,  3.75s/it]\u001b[A\n",
      "4it [00:14,  3.70s/it]\u001b[A\n",
      "5it [00:18,  3.72s/it]\u001b[A\n"
     ]
    },
    {
     "name": "stdout",
     "output_type": "stream",
     "text": [
      "{1: 6.035066839895157, 2: 6.9437648097969955, 3: 7.679933742453781, 4: 8.219134086813108}\n"
     ]
    },
    {
     "name": "stderr",
     "output_type": "stream",
     "text": [
      "\n",
      "0it [00:00, ?it/s]\u001b[A\n",
      "1it [00:02,  2.99s/it]\u001b[A\n",
      "2it [00:06,  3.33s/it]\u001b[A\n",
      "3it [00:09,  3.31s/it]\u001b[A\n",
      "4it [00:13,  3.56s/it]\u001b[A\n",
      "5it [00:17,  3.51s/it]\u001b[A\n"
     ]
    },
    {
     "name": "stdout",
     "output_type": "stream",
     "text": [
      "{1: 49695.210131125, 2: 58078.498424625, 3: 65222.6697990625, 4: 70109.89776015625}\n"
     ]
    },
    {
     "name": "stderr",
     "output_type": "stream",
     "text": [
      "\n",
      "0it [00:00, ?it/s]\u001b[A\n",
      "1it [00:03,  3.37s/it]\u001b[A\n",
      "2it [00:07,  3.95s/it]\u001b[A\n",
      "3it [00:11,  3.78s/it]\u001b[A\n",
      "4it [00:14,  3.74s/it]\u001b[A\n",
      "5it [00:18,  3.74s/it]\u001b[A\n"
     ]
    },
    {
     "name": "stdout",
     "output_type": "stream",
     "text": [
      "{1: 6.0230478580070805, 2: 6.953401734807164, 3: 7.667679509750466, 4: 8.172731183711466}\n"
     ]
    },
    {
     "name": "stderr",
     "output_type": "stream",
     "text": [
      "\n",
      "0it [00:00, ?it/s]\u001b[A\n",
      "1it [00:03,  3.00s/it]\u001b[A\n",
      "2it [00:06,  3.35s/it]\u001b[A\n",
      "3it [00:09,  3.35s/it]\u001b[A\n",
      "4it [00:13,  3.52s/it]\u001b[A\n",
      "5it [00:17,  3.54s/it]\u001b[A\n"
     ]
    },
    {
     "name": "stdout",
     "output_type": "stream",
     "text": [
      "{1: 49640.621356375006, 2: 58085.12203225, 3: 65146.56352968749, 4: 69957.80735503125}\n"
     ]
    },
    {
     "name": "stderr",
     "output_type": "stream",
     "text": [
      "\n",
      "0it [00:00, ?it/s]\u001b[A\n",
      "1it [00:03,  3.34s/it]\u001b[A\n",
      "2it [00:07,  3.64s/it]\u001b[A\n",
      "3it [00:11,  3.73s/it]\u001b[A\n",
      "4it [00:15,  3.87s/it]\u001b[A\n",
      "5it [00:19,  3.85s/it]\u001b[A\n"
     ]
    },
    {
     "name": "stdout",
     "output_type": "stream",
     "text": [
      "{1: 6.029661895328028, 2: 6.951636849963576, 3: 7.673498818664408, 4: 8.196131935430351}\n"
     ]
    },
    {
     "name": "stderr",
     "output_type": "stream",
     "text": [
      "\n",
      "0it [00:00, ?it/s]\u001b[A\n",
      "1it [00:03,  3.46s/it]\u001b[A\n",
      "2it [00:07,  3.59s/it]\u001b[A\n",
      "3it [00:11,  4.05s/it]\u001b[A\n",
      "4it [00:16,  4.50s/it]\u001b[A\n",
      "5it [00:21,  4.36s/it]\u001b[A\n"
     ]
    },
    {
     "name": "stdout",
     "output_type": "stream",
     "text": [
      "{1: 49670.27301684375, 2: 58096.89505471875, 3: 65290.809992906245, 4: 69888.9389978125}\n"
     ]
    },
    {
     "name": "stderr",
     "output_type": "stream",
     "text": [
      "\n",
      "0it [00:00, ?it/s]\u001b[A\n",
      "1it [00:03,  3.04s/it]\u001b[A\n",
      "2it [00:06,  3.22s/it]\u001b[A\n",
      "3it [00:09,  3.35s/it]\u001b[A\n",
      "4it [00:13,  3.53s/it]\u001b[A\n",
      "5it [00:17,  3.56s/it]\u001b[A\n"
     ]
    },
    {
     "name": "stdout",
     "output_type": "stream",
     "text": [
      "{1: 6.087441028729822, 2: 6.941808320004332, 3: 7.6684940430314175, 4: 8.202088001965816}\n"
     ]
    },
    {
     "name": "stderr",
     "output_type": "stream",
     "text": [
      "\n",
      "0it [00:00, ?it/s]\u001b[A\n",
      "1it [00:03,  3.32s/it]\u001b[A\n",
      "2it [00:06,  3.40s/it]\u001b[A\n",
      "3it [00:10,  3.55s/it]\u001b[A\n",
      "4it [00:14,  3.54s/it]\u001b[A\n",
      "5it [00:17,  3.59s/it]\u001b[A\n",
      " 67%|█████████████████████████████▎              | 4/6 [19:56<09:28, 284.48s/it]"
     ]
    },
    {
     "name": "stdout",
     "output_type": "stream",
     "text": [
      "{1: 49825.12415084375, 2: 58060.78840009375, 3: 65101.150102562504, 4: 70081.786753375}\n"
     ]
    },
    {
     "name": "stderr",
     "output_type": "stream",
     "text": [
      "\n",
      "0it [00:00, ?it/s]\u001b[A\n",
      "1it [00:03,  3.38s/it]\u001b[A\n",
      "2it [00:06,  3.50s/it]\u001b[A\n",
      "3it [00:10,  3.69s/it]\u001b[A\n",
      "4it [00:14,  3.66s/it]\u001b[A\n",
      "5it [00:18,  3.65s/it]\u001b[A\n"
     ]
    },
    {
     "name": "stdout",
     "output_type": "stream",
     "text": [
      "{1: 6.032174448620041, 2: 6.948235842706097, 3: 7.682935409359118, 4: 8.18833911846075}\n"
     ]
    },
    {
     "name": "stderr",
     "output_type": "stream",
     "text": [
      "\n",
      "0it [00:00, ?it/s]\u001b[A\n",
      "1it [00:03,  3.59s/it]\u001b[A\n",
      "2it [00:07,  3.73s/it]\u001b[A\n",
      "3it [00:10,  3.56s/it]\u001b[A\n",
      "4it [00:14,  3.55s/it]\u001b[A\n",
      "5it [00:18,  3.61s/it]\u001b[A\n"
     ]
    },
    {
     "name": "stdout",
     "output_type": "stream",
     "text": [
      "{1: 49651.855759750004, 2: 58101.025500218755, 3: 65208.87717009375, 4: 70095.2327969375}\n"
     ]
    },
    {
     "name": "stderr",
     "output_type": "stream",
     "text": [
      "\n",
      "0it [00:00, ?it/s]\u001b[A\n",
      "1it [00:03,  3.28s/it]\u001b[A\n",
      "2it [00:06,  3.35s/it]\u001b[A\n",
      "3it [00:10,  3.45s/it]\u001b[A\n",
      "4it [00:13,  3.50s/it]\u001b[A\n",
      "5it [00:17,  3.58s/it]\u001b[A\n"
     ]
    },
    {
     "name": "stdout",
     "output_type": "stream",
     "text": [
      "{1: 6.022439011979154, 2: 6.946995057711777, 3: 7.666962136818974, 4: 8.198189139695277}\n"
     ]
    },
    {
     "name": "stderr",
     "output_type": "stream",
     "text": [
      "\n",
      "0it [00:00, ?it/s]\u001b[A\n",
      "1it [00:03,  3.11s/it]\u001b[A\n",
      "2it [00:06,  3.34s/it]\u001b[A\n",
      "3it [00:10,  3.57s/it]\u001b[A\n",
      "4it [00:14,  3.68s/it]\u001b[A\n",
      "5it [00:18,  3.68s/it]\u001b[A\n"
     ]
    },
    {
     "name": "stdout",
     "output_type": "stream",
     "text": [
      "{1: 49690.08360771874, 2: 58093.13867815625, 3: 65274.51979675, 4: 70016.24346187501}\n"
     ]
    },
    {
     "name": "stderr",
     "output_type": "stream",
     "text": [
      "\n",
      "0it [00:00, ?it/s]\u001b[A\n",
      "1it [00:03,  3.14s/it]\u001b[A\n",
      "2it [00:06,  3.22s/it]\u001b[A\n",
      "3it [00:10,  3.57s/it]\u001b[A\n",
      "4it [00:13,  3.53s/it]\u001b[A\n",
      "5it [00:17,  3.52s/it]\u001b[A\n"
     ]
    },
    {
     "name": "stdout",
     "output_type": "stream",
     "text": [
      "{1: 6.037114367157311, 2: 6.946404212838476, 3: 7.667256918375337, 4: 8.171708393024103}\n"
     ]
    },
    {
     "name": "stderr",
     "output_type": "stream",
     "text": [
      "\n",
      "0it [00:00, ?it/s]\u001b[A\n",
      "1it [00:03,  3.20s/it]\u001b[A\n",
      "2it [00:06,  3.29s/it]\u001b[A\n",
      "3it [00:10,  3.39s/it]\u001b[A\n",
      "4it [00:13,  3.49s/it]\u001b[A\n",
      "5it [00:17,  3.51s/it]\u001b[A\n"
     ]
    },
    {
     "name": "stdout",
     "output_type": "stream",
     "text": [
      "{1: 49689.46029371875, 2: 58071.18151590625, 3: 65257.77654749999, 4: 70015.71111296875}\n"
     ]
    },
    {
     "name": "stderr",
     "output_type": "stream",
     "text": [
      "\n",
      "0it [00:00, ?it/s]\u001b[A\n",
      "1it [00:03,  3.11s/it]\u001b[A\n",
      "2it [00:06,  3.28s/it]\u001b[A\n",
      "3it [00:11,  4.24s/it]\u001b[A\n",
      "4it [00:15,  3.97s/it]\u001b[A\n",
      "5it [00:19,  3.82s/it]\u001b[A\n"
     ]
    },
    {
     "name": "stdout",
     "output_type": "stream",
     "text": [
      "{1: 6.0326912848781955, 2: 6.952293034271764, 3: 7.663848149959618, 4: 8.257166589984331}\n"
     ]
    },
    {
     "name": "stderr",
     "output_type": "stream",
     "text": [
      "\n",
      "0it [00:00, ?it/s]\u001b[A\n",
      "1it [00:03,  3.08s/it]\u001b[A\n",
      "2it [00:06,  3.12s/it]\u001b[A\n",
      "3it [00:09,  3.22s/it]\u001b[A\n",
      "4it [00:13,  3.33s/it]\u001b[A\n",
      "5it [00:16,  3.34s/it]\u001b[A\n"
     ]
    },
    {
     "name": "stdout",
     "output_type": "stream",
     "text": [
      "{1: 49644.686259625, 2: 58061.351522031255, 3: 65142.949915625, 4: 70094.094542875}\n"
     ]
    },
    {
     "name": "stderr",
     "output_type": "stream",
     "text": [
      "\n",
      "0it [00:00, ?it/s]\u001b[A\n",
      "1it [00:03,  3.20s/it]\u001b[A\n",
      "2it [00:07,  3.59s/it]\u001b[A\n",
      "3it [00:10,  3.57s/it]\u001b[A\n",
      "4it [00:16,  4.62s/it]\u001b[A\n",
      "5it [00:21,  4.33s/it]\u001b[A\n"
     ]
    },
    {
     "name": "stdout",
     "output_type": "stream",
     "text": [
      "{1: 6.058345601686417, 2: 6.94910085532716, 3: 7.67786398020084, 4: 8.215331717546874}\n"
     ]
    },
    {
     "name": "stderr",
     "output_type": "stream",
     "text": [
      "\n",
      "0it [00:00, ?it/s]\u001b[A\n",
      "1it [00:04,  4.75s/it]\u001b[A\n",
      "2it [00:08,  4.29s/it]\u001b[A\n",
      "3it [00:14,  4.76s/it]\u001b[A\n",
      "4it [00:18,  4.51s/it]\u001b[A\n",
      "5it [00:21,  4.37s/it]\u001b[A\n"
     ]
    },
    {
     "name": "stdout",
     "output_type": "stream",
     "text": [
      "{1: 49587.0969331875, 2: 58009.902324124996, 3: 65157.17205875, 4: 69988.8928623125}\n"
     ]
    },
    {
     "name": "stderr",
     "output_type": "stream",
     "text": [
      "\n",
      "0it [00:00, ?it/s]\u001b[A\n",
      "1it [00:03,  3.05s/it]\u001b[A\n",
      "2it [00:06,  3.34s/it]\u001b[A\n",
      "3it [00:10,  3.38s/it]\u001b[A\n",
      "4it [00:13,  3.43s/it]\u001b[A\n",
      "5it [00:17,  3.44s/it]\u001b[A\n"
     ]
    },
    {
     "name": "stdout",
     "output_type": "stream",
     "text": [
      "{1: 6.028811363859768, 2: 6.95198793712072, 3: 7.6682765607725045, 4: 8.201830483457957}\n"
     ]
    },
    {
     "name": "stderr",
     "output_type": "stream",
     "text": [
      "\n",
      "0it [00:00, ?it/s]\u001b[A\n",
      "1it [00:03,  3.06s/it]\u001b[A\n",
      "2it [00:06,  3.18s/it]\u001b[A\n",
      "3it [00:09,  3.33s/it]\u001b[A\n",
      "4it [00:13,  3.35s/it]\u001b[A\n",
      "5it [00:18,  3.79s/it]\u001b[A\n",
      " 83%|████████████████████████████████████▋       | 5/6 [23:49<04:25, 265.89s/it]"
     ]
    },
    {
     "name": "stdout",
     "output_type": "stream",
     "text": [
      "{1: 49649.229418468756, 2: 58149.49999900001, 3: 65207.789738562504, 4: 69782.52567934376}\n"
     ]
    },
    {
     "name": "stderr",
     "output_type": "stream",
     "text": [
      "\n",
      "0it [00:00, ?it/s]\u001b[A\n",
      "1it [00:03,  3.09s/it]\u001b[A\n",
      "2it [00:06,  3.20s/it]\u001b[A\n",
      "3it [00:09,  3.32s/it]\u001b[A\n",
      "4it [00:13,  3.35s/it]\u001b[A\n",
      "5it [00:18,  3.67s/it]\u001b[A\n"
     ]
    },
    {
     "name": "stdout",
     "output_type": "stream",
     "text": [
      "{1: 6.029507371062164, 2: 6.937710337336455, 3: 7.671669759988707, 4: 8.159919529583359}\n"
     ]
    },
    {
     "name": "stderr",
     "output_type": "stream",
     "text": [
      "\n",
      "0it [00:00, ?it/s]\u001b[A\n",
      "1it [00:03,  3.63s/it]\u001b[A\n",
      "2it [00:07,  3.57s/it]\u001b[A\n",
      "3it [00:10,  3.51s/it]\u001b[A\n",
      "4it [00:14,  3.67s/it]\u001b[A\n",
      "5it [00:19,  3.86s/it]\u001b[A\n"
     ]
    },
    {
     "name": "stdout",
     "output_type": "stream",
     "text": [
      "{1: 49781.09291009375, 2: 58034.77966293751, 3: 65259.77142525, 4: 70055.322164625}\n"
     ]
    },
    {
     "name": "stderr",
     "output_type": "stream",
     "text": [
      "\n",
      "0it [00:00, ?it/s]\u001b[A\n",
      "1it [00:03,  3.00s/it]\u001b[A\n",
      "2it [00:06,  3.15s/it]\u001b[A\n",
      "3it [00:09,  3.25s/it]\u001b[A\n",
      "4it [00:13,  3.30s/it]\u001b[A\n",
      "5it [00:16,  3.38s/it]\u001b[A\n"
     ]
    },
    {
     "name": "stdout",
     "output_type": "stream",
     "text": [
      "{1: 6.032976935105751, 2: 6.935750781578113, 3: 7.673253871405441, 4: 8.216296131852864}\n"
     ]
    },
    {
     "name": "stderr",
     "output_type": "stream",
     "text": [
      "\n",
      "0it [00:00, ?it/s]\u001b[A\n",
      "1it [00:03,  3.10s/it]\u001b[A\n",
      "2it [00:06,  3.14s/it]\u001b[A\n",
      "3it [00:09,  3.18s/it]\u001b[A\n",
      "4it [00:12,  3.27s/it]\u001b[A\n",
      "5it [00:16,  3.31s/it]\u001b[A\n"
     ]
    },
    {
     "name": "stdout",
     "output_type": "stream",
     "text": [
      "{1: 49515.37866753125, 2: 58122.57324378125, 3: 65187.222397781254, 4: 70044.04976640624}\n"
     ]
    },
    {
     "name": "stderr",
     "output_type": "stream",
     "text": [
      "\n",
      "0it [00:00, ?it/s]\u001b[A\n",
      "1it [00:03,  3.10s/it]\u001b[A\n",
      "2it [00:06,  3.29s/it]\u001b[A\n",
      "3it [00:09,  3.33s/it]\u001b[A\n",
      "4it [00:13,  3.47s/it]\u001b[A\n",
      "5it [00:17,  3.46s/it]\u001b[A\n"
     ]
    },
    {
     "name": "stdout",
     "output_type": "stream",
     "text": [
      "{1: 6.0367695292689785, 2: 6.952611332986246, 3: 7.67402957806799, 4: 8.203063920436916}\n"
     ]
    },
    {
     "name": "stderr",
     "output_type": "stream",
     "text": [
      "\n",
      "0it [00:00, ?it/s]\u001b[A\n",
      "1it [00:02,  2.99s/it]\u001b[A\n",
      "2it [00:06,  3.12s/it]\u001b[A\n",
      "3it [00:09,  3.26s/it]\u001b[A\n",
      "4it [00:13,  3.32s/it]\u001b[A\n",
      "5it [00:16,  3.32s/it]\u001b[A\n"
     ]
    },
    {
     "name": "stdout",
     "output_type": "stream",
     "text": [
      "{1: 49648.431456718754, 2: 58087.01831859376, 3: 65171.98064368749, 4: 69915.101782875}\n"
     ]
    },
    {
     "name": "stderr",
     "output_type": "stream",
     "text": [
      "\n",
      "0it [00:00, ?it/s]\u001b[A\n",
      "1it [00:02,  2.97s/it]\u001b[A\n",
      "2it [00:06,  3.58s/it]\u001b[A\n",
      "3it [00:10,  3.49s/it]\u001b[A\n",
      "4it [00:13,  3.51s/it]\u001b[A\n",
      "5it [00:18,  3.69s/it]\u001b[A\n"
     ]
    },
    {
     "name": "stdout",
     "output_type": "stream",
     "text": [
      "{1: 6.028963277278011, 2: 6.957450439963641, 3: 7.671366293421419, 4: 8.193517030716372}\n"
     ]
    },
    {
     "name": "stderr",
     "output_type": "stream",
     "text": [
      "\n",
      "0it [00:00, ?it/s]\u001b[A\n",
      "1it [00:03,  3.03s/it]\u001b[A\n",
      "2it [00:06,  3.12s/it]\u001b[A\n",
      "3it [00:09,  3.23s/it]\u001b[A\n",
      "4it [00:14,  3.78s/it]\u001b[A\n",
      "5it [00:20,  4.08s/it]\u001b[A\n"
     ]
    },
    {
     "name": "stdout",
     "output_type": "stream",
     "text": [
      "{1: 49803.220911000004, 2: 58090.20327509375, 3: 65214.648753968744, 4: 69970.23606565625}\n"
     ]
    },
    {
     "name": "stderr",
     "output_type": "stream",
     "text": [
      "\n",
      "0it [00:00, ?it/s]\u001b[A\n",
      "1it [00:05,  5.04s/it]\u001b[A\n",
      "2it [00:10,  5.32s/it]\u001b[A\n",
      "3it [00:15,  5.16s/it]\u001b[A\n",
      "4it [00:19,  4.67s/it]\u001b[A\n",
      "5it [00:23,  4.72s/it]\u001b[A\n"
     ]
    },
    {
     "name": "stdout",
     "output_type": "stream",
     "text": [
      "{1: 6.03372045150729, 2: 6.950979867469842, 3: 7.698829894180124, 4: 8.221545404222317}\n"
     ]
    },
    {
     "name": "stderr",
     "output_type": "stream",
     "text": [
      "\n",
      "0it [00:00, ?it/s]\u001b[A\n",
      "1it [00:03,  3.72s/it]\u001b[A\n",
      "2it [00:08,  4.30s/it]\u001b[A\n",
      "3it [00:14,  5.14s/it]\u001b[A\n",
      "4it [00:19,  5.24s/it]\u001b[A\n",
      "5it [00:24,  4.94s/it]\u001b[A\n"
     ]
    },
    {
     "name": "stdout",
     "output_type": "stream",
     "text": [
      "{1: 49881.71453581249, 2: 58030.649975875, 3: 65346.89214515626, 4: 70042.57895462502}\n"
     ]
    },
    {
     "name": "stderr",
     "output_type": "stream",
     "text": [
      "\n",
      "0it [00:00, ?it/s]\u001b[A\n",
      "1it [00:03,  3.90s/it]\u001b[A\n",
      "2it [00:09,  4.89s/it]\u001b[A\n",
      "3it [00:13,  4.67s/it]\u001b[A\n",
      "4it [00:19,  4.95s/it]\u001b[A\n",
      "5it [00:23,  4.73s/it]\u001b[A\n"
     ]
    },
    {
     "name": "stdout",
     "output_type": "stream",
     "text": [
      "{1: 6.036796559958562, 2: 6.9576959430855165, 3: 7.673994532779443, 4: 8.226010237629845}\n"
     ]
    },
    {
     "name": "stderr",
     "output_type": "stream",
     "text": [
      "\n",
      "0it [00:00, ?it/s]\u001b[A\n",
      "1it [00:03,  3.99s/it]\u001b[A\n",
      "2it [00:10,  5.36s/it]\u001b[A\n",
      "3it [00:15,  5.32s/it]\u001b[A\n",
      "4it [00:21,  5.42s/it]\u001b[A\n",
      "5it [00:27,  5.59s/it]\u001b[A\n",
      "100%|████████████████████████████████████████████| 6/6 [28:04<00:00, 280.67s/it]"
     ]
    },
    {
     "name": "stdout",
     "output_type": "stream",
     "text": [
      "{1: 49894.57442209375, 2: 58110.64324525, 3: 64999.94126284375, 4: 69765.178001125}\n"
     ]
    },
    {
     "name": "stderr",
     "output_type": "stream",
     "text": [
      "\n"
     ]
    }
   ],
   "source": [
    "cv_results = {}\n",
    "for a in tqdm([0, 0.1, 0.3, 0.5, 0.7, 1]):\n",
    "    for l in [0, 0.1, 0.3, 0.5, 0.7, 1]:\n",
    "        params = {'booster': 'gblinear', 'n_estimators': 100, 'alpha': a, 'lambda': l}\n",
    "        model_func = XGBRegressor\n",
    "        cv_scores = TimeSeriesCV(week_df, model_func, mean_absolute_percentage_error, params)\n",
    "        mean_cv_scores = {k: np.mean(v) for k, v in cv_scores.items()}\n",
    "        print(mean_cv_scores)\n",
    "\n",
    "        cv_scores_mae = TimeSeriesCV(week_df, model_func, mean_absolute_error, params)\n",
    "        mean_cv_scores_mae = {k: np.mean(v) for k, v in cv_scores_mae.items()}\n",
    "        print(mean_cv_scores_mae)\n",
    "        cv_results[f'{a}, {l}'] = [mean_cv_scores, mean_cv_scores_mae]"
   ]
  },
  {
   "cell_type": "code",
   "execution_count": 54,
   "metadata": {},
   "outputs": [],
   "source": [
    "from copy import deepcopy\n",
    "cv_results_2 = deepcopy(cv_results)"
   ]
  },
  {
   "cell_type": "code",
   "execution_count": 55,
   "metadata": {},
   "outputs": [],
   "source": [
    "for k, v in cv_results_2.items():\n",
    "    cv_results_2[k] = np.mean(list(v[1].values()))"
   ]
  },
  {
   "cell_type": "code",
   "execution_count": 56,
   "metadata": {
    "scrolled": true
   },
   "outputs": [
    {
     "name": "stdout",
     "output_type": "stream",
     "text": [
      "0, 0.7 60663.73307847656\n"
     ]
    }
   ],
   "source": [
    "for k, v in cv_results_2.items():\n",
    "    if v == min(cv_results_2.values()):\n",
    "        print(k, v)"
   ]
  },
  {
   "cell_type": "markdown",
   "metadata": {},
   "source": [
    "### Формирование предсказания"
   ]
  },
  {
   "cell_type": "markdown",
   "metadata": {},
   "source": [
    "Поскольку, в нашем датафрейме последняя неделя заканчивается 28 марта 2021 года, то предсказания по последним 1000 записям фрейма на 1, 2, 3, 4 недели будет являться искомым результатом."
   ]
  },
  {
   "cell_type": "code",
   "execution_count": 57,
   "metadata": {},
   "outputs": [],
   "source": [
    "def make_prediction(df, model_func, params):\n",
    "    models_dict = {i: model_func(**params) for i in range(1, 5)}\n",
    "    result_df = pd.DataFrame(df['id'].unique()).rename(columns={0:'id'})\n",
    "    for i in range(1, 5):\n",
    "        train_data, train_target, test_data, _ = make_train_target_split(week_df, \n",
    "                                                                 i, \n",
    "                                                                 np.arange(0, df.shape[0])[:-1000], \n",
    "                                                                 np.arange(0, df.shape[0])[-1000:])\n",
    "        models_dict[i].fit(train_data, train_target)\n",
    "        result_df[f'week_{i}'] = models_dict[i].predict(test_data)\n",
    "    return result_df"
   ]
  },
  {
   "cell_type": "code",
   "execution_count": 58,
   "metadata": {},
   "outputs": [
    {
     "data": {
      "text/plain": [
       "{'objective': 'reg:squarederror',\n",
       " 'base_score': None,\n",
       " 'booster': None,\n",
       " 'colsample_bylevel': None,\n",
       " 'colsample_bynode': None,\n",
       " 'colsample_bytree': None,\n",
       " 'enable_categorical': False,\n",
       " 'gamma': None,\n",
       " 'gpu_id': None,\n",
       " 'importance_type': None,\n",
       " 'interaction_constraints': None,\n",
       " 'learning_rate': None,\n",
       " 'max_delta_step': None,\n",
       " 'max_depth': None,\n",
       " 'min_child_weight': None,\n",
       " 'missing': nan,\n",
       " 'monotone_constraints': None,\n",
       " 'n_estimators': 100,\n",
       " 'n_jobs': None,\n",
       " 'num_parallel_tree': None,\n",
       " 'predictor': None,\n",
       " 'random_state': None,\n",
       " 'reg_alpha': None,\n",
       " 'reg_lambda': None,\n",
       " 'scale_pos_weight': None,\n",
       " 'subsample': None,\n",
       " 'tree_method': None,\n",
       " 'validate_parameters': None,\n",
       " 'verbosity': None}"
      ]
     },
     "execution_count": 58,
     "metadata": {},
     "output_type": "execute_result"
    }
   ],
   "source": [
    "XGBRegressor().get_params()"
   ]
  },
  {
   "cell_type": "code",
   "execution_count": 59,
   "metadata": {},
   "outputs": [],
   "source": [
    "params = {'booster': 'gblinear', 'n_estimators': 500, 'alpha': 0.5, 'lambda': 0.7}\n",
    "model_func = XGBRegressor\n",
    "result_df = make_prediction(week_df, model_func, params)"
   ]
  },
  {
   "cell_type": "code",
   "execution_count": 60,
   "metadata": {},
   "outputs": [
    {
     "data": {
      "text/plain": [
       "(1000, 5)"
      ]
     },
     "execution_count": 60,
     "metadata": {},
     "output_type": "execute_result"
    }
   ],
   "source": [
    "result_df.shape"
   ]
  },
  {
   "cell_type": "code",
   "execution_count": 61,
   "metadata": {
    "scrolled": true
   },
   "outputs": [
    {
     "data": {
      "text/html": [
       "<div>\n",
       "<style scoped>\n",
       "    .dataframe tbody tr th:only-of-type {\n",
       "        vertical-align: middle;\n",
       "    }\n",
       "\n",
       "    .dataframe tbody tr th {\n",
       "        vertical-align: top;\n",
       "    }\n",
       "\n",
       "    .dataframe thead th {\n",
       "        text-align: right;\n",
       "    }\n",
       "</style>\n",
       "<table border=\"1\" class=\"dataframe\">\n",
       "  <thead>\n",
       "    <tr style=\"text-align: right;\">\n",
       "      <th></th>\n",
       "      <th>id</th>\n",
       "      <th>week_1</th>\n",
       "      <th>week_2</th>\n",
       "      <th>week_3</th>\n",
       "      <th>week_4</th>\n",
       "    </tr>\n",
       "  </thead>\n",
       "  <tbody>\n",
       "    <tr>\n",
       "      <th>0</th>\n",
       "      <td>1</td>\n",
       "      <td>1.016993e+06</td>\n",
       "      <td>1.008662e+06</td>\n",
       "      <td>1.006944e+06</td>\n",
       "      <td>1.003199e+06</td>\n",
       "    </tr>\n",
       "    <tr>\n",
       "      <th>1</th>\n",
       "      <td>2</td>\n",
       "      <td>7.353964e+05</td>\n",
       "      <td>7.373493e+05</td>\n",
       "      <td>7.355768e+05</td>\n",
       "      <td>7.368410e+05</td>\n",
       "    </tr>\n",
       "    <tr>\n",
       "      <th>2</th>\n",
       "      <td>3</td>\n",
       "      <td>7.790504e+05</td>\n",
       "      <td>7.804375e+05</td>\n",
       "      <td>7.806039e+05</td>\n",
       "      <td>7.798508e+05</td>\n",
       "    </tr>\n",
       "    <tr>\n",
       "      <th>3</th>\n",
       "      <td>4</td>\n",
       "      <td>1.071227e+06</td>\n",
       "      <td>1.081056e+06</td>\n",
       "      <td>1.079424e+06</td>\n",
       "      <td>1.086636e+06</td>\n",
       "    </tr>\n",
       "    <tr>\n",
       "      <th>4</th>\n",
       "      <td>5</td>\n",
       "      <td>8.131624e+05</td>\n",
       "      <td>8.073095e+05</td>\n",
       "      <td>8.095142e+05</td>\n",
       "      <td>8.079418e+05</td>\n",
       "    </tr>\n",
       "  </tbody>\n",
       "</table>\n",
       "</div>"
      ],
      "text/plain": [
       "   id        week_1        week_2        week_3        week_4\n",
       "0   1  1.016993e+06  1.008662e+06  1.006944e+06  1.003199e+06\n",
       "1   2  7.353964e+05  7.373493e+05  7.355768e+05  7.368410e+05\n",
       "2   3  7.790504e+05  7.804375e+05  7.806039e+05  7.798508e+05\n",
       "3   4  1.071227e+06  1.081056e+06  1.079424e+06  1.086636e+06\n",
       "4   5  8.131624e+05  8.073095e+05  8.095142e+05  8.079418e+05"
      ]
     },
     "execution_count": 61,
     "metadata": {},
     "output_type": "execute_result"
    }
   ],
   "source": [
    "result_df.head()"
   ]
  },
  {
   "cell_type": "code",
   "execution_count": null,
   "metadata": {},
   "outputs": [],
   "source": [
    "week_sum_in_regions = week_df.groupby(['region_nm', 'period']).sum() \\\n",
    "                      .reset_index().iloc[:, :4].drop(['id'], axis=1) \\\n",
    "                      .rename({'rto': 'weekly_reg_sum'}, axis=1)\n",
    "\n",
    "week_sum_in_regions['rolling_month_mean_reg'] = week_sum_in_regions.weekly_reg_sum.shift(1).rolling(4).mean()\n",
    "week_sum_in_regions.loc[week_sum_in_regions.period.isin \\\n",
    "                    (week_sum_in_regions.period.unique()[:4]),\n",
    "                       'rolling_month_mean_reg'] = np.nan\n",
    "\n",
    "week_df = week_df.merge(week_sum_in_regions, how='left',\n",
    "                        on=['region_nm', 'period'])"
   ]
  },
  {
   "cell_type": "code",
   "execution_count": 62,
   "metadata": {},
   "outputs": [],
   "source": [
    "result_df.to_csv('xgb_year_feature.csv', index=False)"
   ]
  },
  {
   "cell_type": "markdown",
   "metadata": {},
   "source": [
    "### Гипотеза: Разбить датасет по регионам"
   ]
  },
  {
   "cell_type": "code",
   "execution_count": 63,
   "metadata": {
    "scrolled": false
   },
   "outputs": [
    {
     "data": {
      "text/html": [
       "<div>\n",
       "<style scoped>\n",
       "    .dataframe tbody tr th:only-of-type {\n",
       "        vertical-align: middle;\n",
       "    }\n",
       "\n",
       "    .dataframe tbody tr th {\n",
       "        vertical-align: top;\n",
       "    }\n",
       "\n",
       "    .dataframe thead th {\n",
       "        text-align: right;\n",
       "    }\n",
       "</style>\n",
       "<table border=\"1\" class=\"dataframe\">\n",
       "  <thead>\n",
       "    <tr style=\"text-align: right;\">\n",
       "      <th></th>\n",
       "      <th>id</th>\n",
       "      <th>period</th>\n",
       "      <th>region_nm</th>\n",
       "      <th>rto</th>\n",
       "      <th>traffic</th>\n",
       "      <th>timestamp</th>\n",
       "      <th>1_Weeks_before_rto</th>\n",
       "      <th>1_Weeks_before_rto_diff</th>\n",
       "      <th>2_Weeks_before_rto</th>\n",
       "      <th>2_Weeks_before_rto_diff</th>\n",
       "      <th>3_Weeks_before_rto</th>\n",
       "      <th>3_Weeks_before_rto_diff</th>\n",
       "      <th>4_Weeks_before_rto</th>\n",
       "      <th>4_Weeks_before_rto_diff</th>\n",
       "      <th>1_Weeks_after_rto</th>\n",
       "      <th>2_Weeks_after_rto</th>\n",
       "      <th>3_Weeks_after_rto</th>\n",
       "      <th>4_Weeks_after_rto</th>\n",
       "      <th>rto_last_year</th>\n",
       "    </tr>\n",
       "  </thead>\n",
       "  <tbody>\n",
       "    <tr>\n",
       "      <th>0</th>\n",
       "      <td>1</td>\n",
       "      <td>2019-01-28/2019-02-03</td>\n",
       "      <td>Аваллонэ</td>\n",
       "      <td>676487.97</td>\n",
       "      <td>3935.0</td>\n",
       "      <td>2019-02-03</td>\n",
       "      <td>707086.52</td>\n",
       "      <td>-30598.55</td>\n",
       "      <td>723778.15</td>\n",
       "      <td>-47290.18</td>\n",
       "      <td>686159.59</td>\n",
       "      <td>-9671.62</td>\n",
       "      <td>467010.11</td>\n",
       "      <td>209477.86</td>\n",
       "      <td>716537.17</td>\n",
       "      <td>721202.65</td>\n",
       "      <td>731562.44</td>\n",
       "      <td>688507.86</td>\n",
       "      <td>676487.97</td>\n",
       "    </tr>\n",
       "    <tr>\n",
       "      <th>1</th>\n",
       "      <td>2</td>\n",
       "      <td>2019-01-28/2019-02-03</td>\n",
       "      <td>Валимар</td>\n",
       "      <td>655126.39</td>\n",
       "      <td>3315.0</td>\n",
       "      <td>2019-02-03</td>\n",
       "      <td>640498.84</td>\n",
       "      <td>14627.55</td>\n",
       "      <td>650413.53</td>\n",
       "      <td>4712.86</td>\n",
       "      <td>629551.38</td>\n",
       "      <td>25575.01</td>\n",
       "      <td>470225.13</td>\n",
       "      <td>184901.26</td>\n",
       "      <td>652134.91</td>\n",
       "      <td>659287.26</td>\n",
       "      <td>649539.32</td>\n",
       "      <td>653664.83</td>\n",
       "      <td>655126.39</td>\n",
       "    </tr>\n",
       "  </tbody>\n",
       "</table>\n",
       "</div>"
      ],
      "text/plain": [
       "   id                 period region_nm        rto  traffic  timestamp  \\\n",
       "0   1  2019-01-28/2019-02-03  Аваллонэ  676487.97   3935.0 2019-02-03   \n",
       "1   2  2019-01-28/2019-02-03   Валимар  655126.39   3315.0 2019-02-03   \n",
       "\n",
       "   1_Weeks_before_rto  1_Weeks_before_rto_diff  2_Weeks_before_rto  \\\n",
       "0           707086.52                -30598.55           723778.15   \n",
       "1           640498.84                 14627.55           650413.53   \n",
       "\n",
       "   2_Weeks_before_rto_diff  3_Weeks_before_rto  3_Weeks_before_rto_diff  \\\n",
       "0                -47290.18           686159.59                 -9671.62   \n",
       "1                  4712.86           629551.38                 25575.01   \n",
       "\n",
       "   4_Weeks_before_rto  4_Weeks_before_rto_diff  1_Weeks_after_rto  \\\n",
       "0           467010.11                209477.86          716537.17   \n",
       "1           470225.13                184901.26          652134.91   \n",
       "\n",
       "   2_Weeks_after_rto  3_Weeks_after_rto  4_Weeks_after_rto  rto_last_year  \n",
       "0          721202.65          731562.44          688507.86      676487.97  \n",
       "1          659287.26          649539.32          653664.83      655126.39  "
      ]
     },
     "execution_count": 63,
     "metadata": {},
     "output_type": "execute_result"
    }
   ],
   "source": [
    "week_df.head(2)"
   ]
  },
  {
   "cell_type": "code",
   "execution_count": 64,
   "metadata": {},
   "outputs": [],
   "source": [
    "regions = week_df.region_nm.unique()"
   ]
  },
  {
   "cell_type": "code",
   "execution_count": 65,
   "metadata": {},
   "outputs": [],
   "source": [
    "region_dfs = []\n",
    "for region in regions:\n",
    "    region_dfs.append(week_df[week_df.region_nm == region])"
   ]
  },
  {
   "cell_type": "code",
   "execution_count": 66,
   "metadata": {},
   "outputs": [],
   "source": [
    "for _df in region_dfs:\n",
    "    _df = _df.reset_index(drop=True)"
   ]
  },
  {
   "cell_type": "code",
   "execution_count": 67,
   "metadata": {},
   "outputs": [],
   "source": [
    "# params = {'normalize': True}\n",
    "# model_func = LinearRegression\n",
    "# for _df in tqdm(region_dfs):\n",
    "#     result_df = make_prediction(_df, model_func, params)"
   ]
  },
  {
   "cell_type": "code",
   "execution_count": 69,
   "metadata": {},
   "outputs": [],
   "source": [
    "def make_train_target_split(df, model_num, train_idxs, test_idxs):\n",
    "    df_new = df.copy()\n",
    "    df_new['week_num'] = df_new['timestamp'].dt.isocalendar().week\n",
    "    df_new['week_num'] = df_new['timestamp'].dt.isocalendar().week\n",
    "    \n",
    "    cols_to_drop = ([f'{i}_Weeks_after_rto' for i in range(1, 5) if i != model_num]\n",
    "                     + ['timestamp', 'period', 'region_nm'])\n",
    "#     print(model_num, cols_to_drop)\n",
    "    \n",
    "    df_new = df.drop(columns=cols_to_drop).rename(columns={f'{model_num}_Weeks_after_rto': 'target'})\n",
    "    train_data, train_target, test_data, test_target = (df_new.drop(columns=['target']).iloc[train_idxs], \n",
    "                                                        df_new['target'].iloc[train_idxs],\n",
    "                                                        df_new.drop(columns=['target']).iloc[test_idxs],\n",
    "                                                        df_new['target'].iloc[test_idxs])\n",
    "    return train_data[train_target.notna()], train_target[train_target.notna()], test_data, test_target\n",
    "\n",
    "\n",
    "def make_prediction(df, model_func, params):\n",
    "    models_dict = {i: model_func(**params) for i in range(1, 5)}\n",
    "    result_df = pd.DataFrame(week_df['id'].unique()).rename(columns={0:'id'})\n",
    "    for i in range(1, 5):\n",
    "        train_data, train_target, test_data, _ = make_train_target_split(week_df, \n",
    "                                                                 i, \n",
    "                                                                 np.arange(0, df.shape[0])[:-round(df.shape[0]*0.2)], \n",
    "                                                                 np.arange(0, df.shape[0])[-round(df.shape[0]*0.2):])\n",
    "        models_dict[i].fit(train_data, train_target)\n",
    "        result_df[f'week_{i}'] = models_dict[i].predict(test_data)\n",
    "    return result_df"
   ]
  },
  {
   "cell_type": "code",
   "execution_count": 70,
   "metadata": {
    "scrolled": true
   },
   "outputs": [
    {
     "ename": "ValueError",
     "evalue": "Length of values (22600) does not match length of index (1000)",
     "output_type": "error",
     "traceback": [
      "\u001b[0;31m---------------------------------------------------------------------------\u001b[0m",
      "\u001b[0;31mValueError\u001b[0m                                Traceback (most recent call last)",
      "Input \u001b[0;32mIn [70]\u001b[0m, in \u001b[0;36m<cell line: 3>\u001b[0;34m()\u001b[0m\n\u001b[1;32m      1\u001b[0m params \u001b[38;5;241m=\u001b[39m {\u001b[38;5;124m'\u001b[39m\u001b[38;5;124mnormalize\u001b[39m\u001b[38;5;124m'\u001b[39m: \u001b[38;5;28;01mTrue\u001b[39;00m}\n\u001b[1;32m      2\u001b[0m model_func \u001b[38;5;241m=\u001b[39m LinearRegression\n\u001b[0;32m----> 3\u001b[0m result_df \u001b[38;5;241m=\u001b[39m make_prediction(week_df, model_func, params)\n",
      "Input \u001b[0;32mIn [69]\u001b[0m, in \u001b[0;36mmake_prediction\u001b[0;34m(df, model_func, params)\u001b[0m\n\u001b[1;32m     22\u001b[0m     train_data, train_target, test_data, _ \u001b[38;5;241m=\u001b[39m make_train_target_split(week_df, \n\u001b[1;32m     23\u001b[0m                                                              i, \n\u001b[1;32m     24\u001b[0m                                                              np\u001b[38;5;241m.\u001b[39marange(\u001b[38;5;241m0\u001b[39m, df\u001b[38;5;241m.\u001b[39mshape[\u001b[38;5;241m0\u001b[39m])[:\u001b[38;5;241m-\u001b[39m\u001b[38;5;28mround\u001b[39m(df\u001b[38;5;241m.\u001b[39mshape[\u001b[38;5;241m0\u001b[39m]\u001b[38;5;241m*\u001b[39m\u001b[38;5;241m0.2\u001b[39m)], \n\u001b[1;32m     25\u001b[0m                                                              np\u001b[38;5;241m.\u001b[39marange(\u001b[38;5;241m0\u001b[39m, df\u001b[38;5;241m.\u001b[39mshape[\u001b[38;5;241m0\u001b[39m])[\u001b[38;5;241m-\u001b[39m\u001b[38;5;28mround\u001b[39m(df\u001b[38;5;241m.\u001b[39mshape[\u001b[38;5;241m0\u001b[39m]\u001b[38;5;241m*\u001b[39m\u001b[38;5;241m0.2\u001b[39m):])\n\u001b[1;32m     26\u001b[0m     models_dict[i]\u001b[38;5;241m.\u001b[39mfit(train_data, train_target)\n\u001b[0;32m---> 27\u001b[0m     result_df[\u001b[38;5;124mf\u001b[39m\u001b[38;5;124m'\u001b[39m\u001b[38;5;124mweek_\u001b[39m\u001b[38;5;132;01m{\u001b[39;00mi\u001b[38;5;132;01m}\u001b[39;00m\u001b[38;5;124m'\u001b[39m] \u001b[38;5;241m=\u001b[39m models_dict[i]\u001b[38;5;241m.\u001b[39mpredict(test_data)\n\u001b[1;32m     28\u001b[0m \u001b[38;5;28;01mreturn\u001b[39;00m result_df\n",
      "File \u001b[0;32m/usr/local/lib/python3.9/site-packages/pandas/core/frame.py:3655\u001b[0m, in \u001b[0;36mDataFrame.__setitem__\u001b[0;34m(self, key, value)\u001b[0m\n\u001b[1;32m   3652\u001b[0m     \u001b[38;5;28mself\u001b[39m\u001b[38;5;241m.\u001b[39m_setitem_array([key], value)\n\u001b[1;32m   3653\u001b[0m \u001b[38;5;28;01melse\u001b[39;00m:\n\u001b[1;32m   3654\u001b[0m     \u001b[38;5;66;03m# set column\u001b[39;00m\n\u001b[0;32m-> 3655\u001b[0m     \u001b[38;5;28;43mself\u001b[39;49m\u001b[38;5;241;43m.\u001b[39;49m\u001b[43m_set_item\u001b[49m\u001b[43m(\u001b[49m\u001b[43mkey\u001b[49m\u001b[43m,\u001b[49m\u001b[43m \u001b[49m\u001b[43mvalue\u001b[49m\u001b[43m)\u001b[49m\n",
      "File \u001b[0;32m/usr/local/lib/python3.9/site-packages/pandas/core/frame.py:3832\u001b[0m, in \u001b[0;36mDataFrame._set_item\u001b[0;34m(self, key, value)\u001b[0m\n\u001b[1;32m   3822\u001b[0m \u001b[38;5;28;01mdef\u001b[39;00m \u001b[38;5;21m_set_item\u001b[39m(\u001b[38;5;28mself\u001b[39m, key, value) \u001b[38;5;241m-\u001b[39m\u001b[38;5;241m>\u001b[39m \u001b[38;5;28;01mNone\u001b[39;00m:\n\u001b[1;32m   3823\u001b[0m     \u001b[38;5;124;03m\"\"\"\u001b[39;00m\n\u001b[1;32m   3824\u001b[0m \u001b[38;5;124;03m    Add series to DataFrame in specified column.\u001b[39;00m\n\u001b[1;32m   3825\u001b[0m \n\u001b[0;32m   (...)\u001b[0m\n\u001b[1;32m   3830\u001b[0m \u001b[38;5;124;03m    ensure homogeneity.\u001b[39;00m\n\u001b[1;32m   3831\u001b[0m \u001b[38;5;124;03m    \"\"\"\u001b[39;00m\n\u001b[0;32m-> 3832\u001b[0m     value \u001b[38;5;241m=\u001b[39m \u001b[38;5;28;43mself\u001b[39;49m\u001b[38;5;241;43m.\u001b[39;49m\u001b[43m_sanitize_column\u001b[49m\u001b[43m(\u001b[49m\u001b[43mvalue\u001b[49m\u001b[43m)\u001b[49m\n\u001b[1;32m   3834\u001b[0m     \u001b[38;5;28;01mif\u001b[39;00m (\n\u001b[1;32m   3835\u001b[0m         key \u001b[38;5;129;01min\u001b[39;00m \u001b[38;5;28mself\u001b[39m\u001b[38;5;241m.\u001b[39mcolumns\n\u001b[1;32m   3836\u001b[0m         \u001b[38;5;129;01mand\u001b[39;00m value\u001b[38;5;241m.\u001b[39mndim \u001b[38;5;241m==\u001b[39m \u001b[38;5;241m1\u001b[39m\n\u001b[1;32m   3837\u001b[0m         \u001b[38;5;129;01mand\u001b[39;00m \u001b[38;5;129;01mnot\u001b[39;00m is_extension_array_dtype(value)\n\u001b[1;32m   3838\u001b[0m     ):\n\u001b[1;32m   3839\u001b[0m         \u001b[38;5;66;03m# broadcast across multiple columns if necessary\u001b[39;00m\n\u001b[1;32m   3840\u001b[0m         \u001b[38;5;28;01mif\u001b[39;00m \u001b[38;5;129;01mnot\u001b[39;00m \u001b[38;5;28mself\u001b[39m\u001b[38;5;241m.\u001b[39mcolumns\u001b[38;5;241m.\u001b[39mis_unique \u001b[38;5;129;01mor\u001b[39;00m \u001b[38;5;28misinstance\u001b[39m(\u001b[38;5;28mself\u001b[39m\u001b[38;5;241m.\u001b[39mcolumns, MultiIndex):\n",
      "File \u001b[0;32m/usr/local/lib/python3.9/site-packages/pandas/core/frame.py:4529\u001b[0m, in \u001b[0;36mDataFrame._sanitize_column\u001b[0;34m(self, value)\u001b[0m\n\u001b[1;32m   4526\u001b[0m     \u001b[38;5;28;01mreturn\u001b[39;00m _reindex_for_setitem(value, \u001b[38;5;28mself\u001b[39m\u001b[38;5;241m.\u001b[39mindex)\n\u001b[1;32m   4528\u001b[0m \u001b[38;5;28;01mif\u001b[39;00m is_list_like(value):\n\u001b[0;32m-> 4529\u001b[0m     \u001b[43mcom\u001b[49m\u001b[38;5;241;43m.\u001b[39;49m\u001b[43mrequire_length_match\u001b[49m\u001b[43m(\u001b[49m\u001b[43mvalue\u001b[49m\u001b[43m,\u001b[49m\u001b[43m \u001b[49m\u001b[38;5;28;43mself\u001b[39;49m\u001b[38;5;241;43m.\u001b[39;49m\u001b[43mindex\u001b[49m\u001b[43m)\u001b[49m\n\u001b[1;32m   4530\u001b[0m \u001b[38;5;28;01mreturn\u001b[39;00m sanitize_array(value, \u001b[38;5;28mself\u001b[39m\u001b[38;5;241m.\u001b[39mindex, copy\u001b[38;5;241m=\u001b[39m\u001b[38;5;28;01mTrue\u001b[39;00m, allow_2d\u001b[38;5;241m=\u001b[39m\u001b[38;5;28;01mTrue\u001b[39;00m)\n",
      "File \u001b[0;32m/usr/local/lib/python3.9/site-packages/pandas/core/common.py:557\u001b[0m, in \u001b[0;36mrequire_length_match\u001b[0;34m(data, index)\u001b[0m\n\u001b[1;32m    553\u001b[0m \u001b[38;5;124;03m\"\"\"\u001b[39;00m\n\u001b[1;32m    554\u001b[0m \u001b[38;5;124;03mCheck the length of data matches the length of the index.\u001b[39;00m\n\u001b[1;32m    555\u001b[0m \u001b[38;5;124;03m\"\"\"\u001b[39;00m\n\u001b[1;32m    556\u001b[0m \u001b[38;5;28;01mif\u001b[39;00m \u001b[38;5;28mlen\u001b[39m(data) \u001b[38;5;241m!=\u001b[39m \u001b[38;5;28mlen\u001b[39m(index):\n\u001b[0;32m--> 557\u001b[0m     \u001b[38;5;28;01mraise\u001b[39;00m \u001b[38;5;167;01mValueError\u001b[39;00m(\n\u001b[1;32m    558\u001b[0m         \u001b[38;5;124m\"\u001b[39m\u001b[38;5;124mLength of values \u001b[39m\u001b[38;5;124m\"\u001b[39m\n\u001b[1;32m    559\u001b[0m         \u001b[38;5;124mf\u001b[39m\u001b[38;5;124m\"\u001b[39m\u001b[38;5;124m(\u001b[39m\u001b[38;5;132;01m{\u001b[39;00m\u001b[38;5;28mlen\u001b[39m(data)\u001b[38;5;132;01m}\u001b[39;00m\u001b[38;5;124m) \u001b[39m\u001b[38;5;124m\"\u001b[39m\n\u001b[1;32m    560\u001b[0m         \u001b[38;5;124m\"\u001b[39m\u001b[38;5;124mdoes not match length of index \u001b[39m\u001b[38;5;124m\"\u001b[39m\n\u001b[1;32m    561\u001b[0m         \u001b[38;5;124mf\u001b[39m\u001b[38;5;124m\"\u001b[39m\u001b[38;5;124m(\u001b[39m\u001b[38;5;132;01m{\u001b[39;00m\u001b[38;5;28mlen\u001b[39m(index)\u001b[38;5;132;01m}\u001b[39;00m\u001b[38;5;124m)\u001b[39m\u001b[38;5;124m\"\u001b[39m\n\u001b[1;32m    562\u001b[0m     )\n",
      "\u001b[0;31mValueError\u001b[0m: Length of values (22600) does not match length of index (1000)"
     ]
    }
   ],
   "source": [
    "params = {'normalize': True}\n",
    "model_func = LinearRegression\n",
    "result_df = make_prediction(week_df, model_func, params)"
   ]
  },
  {
   "cell_type": "code",
   "execution_count": 94,
   "metadata": {
    "scrolled": true
   },
   "outputs": [],
   "source": [
    "# df_new = _df.copy()\n",
    "# df_new['week_num'] = df_new['timestamp'].dt.isocalendar().week\n",
    "# cols_to_drop = ([f'{i}_Weeks_after_rto' for i in range(1, 5) if i != 2]\n",
    "#                      + ['timestamp', 'period', 'region_nm'])\n",
    "# # df_new = _df.drop(columns=cols_to_drop).rename(columns={f'{2}_Weeks_after_rto': 'target'})\n",
    "# # df_new"
   ]
  },
  {
   "cell_type": "code",
   "execution_count": 2,
   "metadata": {
    "scrolled": true
   },
   "outputs": [
    {
     "ename": "NameError",
     "evalue": "name 'week_df' is not defined",
     "output_type": "error",
     "traceback": [
      "\u001b[0;31m---------------------------------------------------------------------------\u001b[0m",
      "\u001b[0;31mNameError\u001b[0m                                 Traceback (most recent call last)",
      "\u001b[0;32m<ipython-input-2-66f7bfe6f317>\u001b[0m in \u001b[0;36m<module>\u001b[0;34m\u001b[0m\n\u001b[0;32m----> 1\u001b[0;31m \u001b[0mweek_df\u001b[0m\u001b[0;34m.\u001b[0m\u001b[0miloc\u001b[0m\u001b[0;34m[\u001b[0m\u001b[0mnp\u001b[0m\u001b[0;34m.\u001b[0m\u001b[0marange\u001b[0m\u001b[0;34m(\u001b[0m\u001b[0;36m0\u001b[0m\u001b[0;34m,\u001b[0m \u001b[0mweek_df\u001b[0m\u001b[0;34m.\u001b[0m\u001b[0mshape\u001b[0m\u001b[0;34m[\u001b[0m\u001b[0;36m0\u001b[0m\u001b[0;34m]\u001b[0m\u001b[0;34m)\u001b[0m\u001b[0;34m[\u001b[0m\u001b[0;34m-\u001b[0m\u001b[0;36m1001\u001b[0m\u001b[0;34m:\u001b[0m\u001b[0;34m]\u001b[0m\u001b[0;34m]\u001b[0m\u001b[0;34m\u001b[0m\u001b[0;34m\u001b[0m\u001b[0m\n\u001b[0m",
      "\u001b[0;31mNameError\u001b[0m: name 'week_df' is not defined"
     ]
    }
   ],
   "source": [
    "week_df.iloc[np.arange(0, week_df.shape[0])[-1001:]]"
   ]
  }
 ],
 "metadata": {
  "kernelspec": {
   "display_name": "Python 3 (ipykernel)",
   "language": "python",
   "name": "python3"
  },
  "language_info": {
   "codemirror_mode": {
    "name": "ipython",
    "version": 3
   },
   "file_extension": ".py",
   "mimetype": "text/x-python",
   "name": "python",
   "nbconvert_exporter": "python",
   "pygments_lexer": "ipython3",
   "version": "3.9.10"
  }
 },
 "nbformat": 4,
 "nbformat_minor": 4
}
